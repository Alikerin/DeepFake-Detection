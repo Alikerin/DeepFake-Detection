{
 "cells": [
  {
   "cell_type": "code",
   "execution_count": 2,
   "metadata": {
    "colab": {
     "base_uri": "https://localhost:8080/",
     "height": 351
    },
    "colab_type": "code",
    "collapsed": true,
    "id": "weHlNJXvg4IN",
    "jupyter": {
     "outputs_hidden": true
    },
    "outputId": "df16671a-be43-48d8-839d-b5561e73b5ab"
   },
   "outputs": [
    {
     "name": "stdout",
     "output_type": "stream",
     "text": [
      "Collecting torchaudio\n",
      "\u001b[?25l  Downloading https://files.pythonhosted.org/packages/f6/3d/7bcc3476f00d8dd8735d384230cb787d7e91ce6e1b51cef802d6bc5f4ff3/torchaudio-0.3.1-cp36-cp36m-manylinux1_x86_64.whl (2.7MB)\n",
      "\u001b[K     |████████████████████████████████| 2.7MB 43.9MB/s eta 0:00:01\n",
      "\u001b[?25hCollecting torch==1.3.0\n",
      "\u001b[?25l  Downloading https://files.pythonhosted.org/packages/ae/05/50a05de5337f7a924bb8bd70c6936230642233e424d6a9747ef1cfbde353/torch-1.3.0-cp36-cp36m-manylinux1_x86_64.whl (773.1MB)\n",
      "\u001b[K     |████████████████████████████████| 773.1MB 22kB/s \n",
      "\u001b[?25hRequirement already satisfied: numpy in /usr/local/lib/python3.6/dist-packages (from torch==1.3.0->torchaudio) (1.17.4)\n",
      "\u001b[31mERROR: torchvision 0.4.2 has requirement torch==1.3.1, but you'll have torch 1.3.0 which is incompatible.\u001b[0m\n",
      "Installing collected packages: torch, torchaudio\n",
      "  Found existing installation: torch 1.3.1\n",
      "    Uninstalling torch-1.3.1:\n",
      "      Successfully uninstalled torch-1.3.1\n",
      "Successfully installed torch-1.3.0 torchaudio-0.3.1\n"
     ]
    },
    {
     "data": {
      "application/vnd.colab-display-data+json": {
       "pip_warning": {
        "packages": [
         "torch"
        ]
       }
      }
     },
     "metadata": {
      "tags": []
     },
     "output_type": "display_data"
    }
   ],
   "source": [
    "!pip install torchaudio"
   ]
  },
  {
   "cell_type": "code",
   "execution_count": 1,
   "metadata": {
    "colab": {},
    "colab_type": "code",
    "id": "545utiPdeA8M"
   },
   "outputs": [],
   "source": [
    "import os\n",
    "import time\n",
    "import glob\n",
    "import numpy as np\n",
    "import pandas as pd\n",
    "import torch\n",
    "import torch.nn.functional as F\n",
    "from torch.utils.data import Dataset, DataLoader\n",
    "# import torchaudio\n",
    "import torch.nn as nn\n",
    "from torch.utils.tensorboard import SummaryWriter"
   ]
  },
  {
   "cell_type": "code",
   "execution_count": 2,
   "metadata": {
    "colab": {},
    "colab_type": "code",
    "id": "nt9EZN4k8l7_"
   },
   "outputs": [],
   "source": [
    "import json\n",
    "import matplotlib.pyplot as plt"
   ]
  },
  {
   "cell_type": "code",
   "execution_count": 3,
   "metadata": {
    "colab": {},
    "colab_type": "code",
    "id": "6ImfgYbbrKh7"
   },
   "outputs": [
    {
     "name": "stderr",
     "output_type": "stream",
     "text": [
      "Using TensorFlow backend.\n"
     ]
    }
   ],
   "source": [
    "import os\n",
    "import torchaudio\n",
    "import moviepy.editor as mp\n",
    "from torch.utils.data import Dataset, DataLoader\n",
    "import torchvision\n",
    "from  keras import backend as K\n",
    "from keras.models import load_model, Model\n",
    "import torchvision.transforms as transforms\n",
    "from PIL import Image"
   ]
  },
  {
   "cell_type": "code",
   "execution_count": 4,
   "metadata": {},
   "outputs": [],
   "source": [
    "# !pip install --upgrade moviepy"
   ]
  },
  {
   "cell_type": "code",
   "execution_count": 5,
   "metadata": {},
   "outputs": [],
   "source": [
    "from sklearn import preprocessing\n",
    "le = preprocessing.LabelEncoder()"
   ]
  },
  {
   "cell_type": "code",
   "execution_count": 6,
   "metadata": {
    "colab": {},
    "colab_type": "code",
    "id": "JBecilrLrKhp"
   },
   "outputs": [
    {
     "name": "stderr",
     "output_type": "stream",
     "text": [
      "Using cache found in /home/yusuf/.cache/torch/hub/pytorch_vision_v0.4.2\n"
     ]
    }
   ],
   "source": [
    "import torch.nn as nn\n",
    "\n",
    "import torch\n",
    "frame_model = torch.hub.load('pytorch/vision:v0.4.2', 'inception_v3', pretrained=True)\n",
    "frame_model.eval()\n",
    "\n",
    "class Identity(nn.Module):\n",
    "    def __init__(self):\n",
    "        super().__init__()\n",
    "\n",
    "    def forward(self, x):\n",
    "        return x\n",
    "    \n",
    "frame_model.fc = Identity()"
   ]
  },
  {
   "cell_type": "code",
   "execution_count": 7,
   "metadata": {},
   "outputs": [],
   "source": [
    "\n",
    "def customPooling(x):\n",
    "    target = x[1]\n",
    "    inputs = x[0]\n",
    "    maskVal = 0\n",
    "    #getting the mask by observing the model's inputs\n",
    "    mask = K.equal(inputs, maskVal)\n",
    "    mask = K.all(mask, axis=-1, keepdims=True)\n",
    "\n",
    "    #inverting the mask for getting the valid steps for each sample\n",
    "    mask = 1 - K.cast(mask, K.floatx())\n",
    "\n",
    "    #summing the valid steps for each sample\n",
    "    stepsPerSample = K.sum(mask, axis=1, keepdims=False)\n",
    "\n",
    "    #applying the mask to the target (to make sure you are summing zeros below)\n",
    "    target = target * mask\n",
    "\n",
    "    #calculating the mean of the steps (using our sum of valid steps as averager)\n",
    "    means = K.sum(target, axis=1, keepdims=False) / stepsPerSample\n",
    "\n",
    "    return means\n",
    "\n",
    "model = load_model(\"saved_model_240_8_32_0.05_1_50_0_0.0001_100_156_2_True_True_fitted_objects.h5\", custom_objects={'customPooling': customPooling})\n",
    "audio_model = Model(inputs = model.input, outputs = model.layers[-3].output)"
   ]
  },
  {
   "cell_type": "code",
   "execution_count": 8,
   "metadata": {},
   "outputs": [],
   "source": [
    "img_transforms = transforms.Compose([transforms.Resize((229, 229)),\n",
    "                                 transforms.ToTensor(),\n",
    "                                transforms.Normalize([0.485, 0.456, 0.406], [0.229, 0.224, 0.225])])"
   ]
  },
  {
   "cell_type": "code",
   "execution_count": 79,
   "metadata": {
    "colab": {},
    "colab_type": "code",
    "id": "rXGBomPPDwdO"
   },
   "outputs": [],
   "source": [
    "class VideoDataset(Dataset):\n",
    "    \"\"\"\n",
    "    A rapper class for the Video dataset.\n",
    "    \"\"\"\n",
    "\n",
    "    def __init__(self, file_path, video_paths, frame_model, audio_model, transform = None, limit=None):\n",
    "        \"\"\"\n",
    "        Args:\n",
    "            file_path(string): path to the audio csv file\n",
    "            root_dir(string): directory with all the audio folds\n",
    "            folds: integer corresponding to audio fold number or list of fold number if more than one fold is needed\n",
    "        \"\"\"\n",
    "        self.video_file = pd.read_json(file_path).transpose()\n",
    "        self.video_file['label'] = le.fit_transform(self.video_file.label.values)\n",
    "        # self.folds = folds\n",
    "        # self.video_paths = glob.glob(video_paths + '/*' + str(self.folds) + '/*')\n",
    "        self.video_paths = video_paths\n",
    "        self.frame_model = frame_model.eval()\n",
    "        self.audio_model = audio_model\n",
    "        self.transform = transform\n",
    "        self.limit = limit\n",
    "\n",
    "    def __len__(self):\n",
    "        return len(os.listdir(self.video_paths))\n",
    "\n",
    "    def __getitem__(self, idx):\n",
    "\n",
    "        video_file = self.video_file.index[idx]\n",
    "        clip = mp.VideoFileClip(os.path.join(self.video_paths, video_file)) #pass in the video file path here\n",
    "        no_frames = int(np.round(clip.duration)) * int(np.round(clip.fps))\n",
    "        \n",
    "        if self.limit:\n",
    "            frame_embeddings = np.zeros((self.limit, 2048))\n",
    "        else:\n",
    "            frame_embeddings = np.zeros((no_frames, 2048))\n",
    "\n",
    "        for idx, frame in enumerate(clip.iter_frames()):\n",
    "            if idx == self.limit:\n",
    "                break\n",
    "            frame = Image.fromarray(frame)\n",
    "            if self.transform:\n",
    "                frame = self.transform(frame)\n",
    "            frame_embeddings[idx, :] = (self.frame_model(frame.unsqueeze(0)).detach().numpy()).squeeze(0) #detach from gradients\n",
    "\n",
    "        audio = clip.audio.to_soundarray()\n",
    "\n",
    "        audio = audio.mean(1, keepdims=True)\n",
    "        mel_specgram = torchaudio.transforms.MelSpectrogram(sample_rate=44100, n_fft=2048, win_length=2000, hop_length=500, n_mels=240)(torch.tensor(audio).float().T)  # (channel, n_mels, time)\n",
    "        mel_specgram = np.moveaxis(mel_specgram.detach().numpy(), 1, 2)\n",
    "        audio_embedding = [self.audio_model.predict(mel_specgram).squeeze()]\n",
    "        label = self.video_file['label'][idx]\n",
    "        \n",
    "        return torch.tensor(frame_embeddings), torch.tensor(audio_embedding), torch.tensor(label).unsqueeze(0)"
   ]
  },
  {
   "cell_type": "code",
   "execution_count": 16,
   "metadata": {},
   "outputs": [],
   "source": [
    "clip = mp.VideoFileClip(\"aassnaulhq.mp4\") #pass in the video file path here"
   ]
  },
  {
   "cell_type": "code",
   "execution_count": 18,
   "metadata": {},
   "outputs": [
    {
     "data": {
      "text/plain": [
       "10.0"
      ]
     },
     "execution_count": 18,
     "metadata": {},
     "output_type": "execute_result"
    }
   ],
   "source": [
    "np.round(clip.duration)"
   ]
  },
  {
   "cell_type": "code",
   "execution_count": 19,
   "metadata": {},
   "outputs": [
    {
     "data": {
      "text/plain": [
       "30.0"
      ]
     },
     "execution_count": 19,
     "metadata": {},
     "output_type": "execute_result"
    }
   ],
   "source": [
    "np.round(clip.fps)"
   ]
  },
  {
   "cell_type": "code",
   "execution_count": 17,
   "metadata": {},
   "outputs": [
    {
     "data": {
      "text/plain": [
       "torch.Size([3, 229, 229])"
      ]
     },
     "execution_count": 17,
     "metadata": {},
     "output_type": "execute_result"
    }
   ],
   "source": [
    "sample = clip.get_frame(0)\n",
    "type(sample)\n",
    "# sample = torch.tensor(sample)\n",
    "sample = img_transforms(Image.fromarray(sample))\n",
    "sample.shape"
   ]
  },
  {
   "cell_type": "code",
   "execution_count": 19,
   "metadata": {},
   "outputs": [
    {
     "data": {
      "text/plain": [
       "torch.Size([2048])"
      ]
     },
     "execution_count": 19,
     "metadata": {},
     "output_type": "execute_result"
    }
   ],
   "source": [
    "x = frame_model(sample.unsqueeze(0))\n",
    "x.flatten().shape\n"
   ]
  },
  {
   "cell_type": "code",
   "execution_count": null,
   "metadata": {},
   "outputs": [],
   "source": [
    "clip = mp.VideoFileClip(os.path.join(self.video_paths, video_file)) #pass in the video file path here\n",
    "frame_embeddings = np.zeros((no_frames, 1, 2048))\n",
    "\n",
    "for idx, frame in enumerate(clip.iter_frames()):\n",
    "    frame = Image.fromarray(frame)\n",
    "    if self.transform:\n",
    "        frame = self.transform(frame)\n",
    "#                 frame = frame.permute(2,0,1)\n",
    "#                 print(frame.shape)\n",
    "    frame_embeddings[idx, :, :] = self.frame_model(frame.unsqueeze(0)).detach().numpy() #detach from gradients\n"
   ]
  },
  {
   "cell_type": "code",
   "execution_count": 32,
   "metadata": {},
   "outputs": [],
   "source": [
    "df = pd.read_json(\"dfdc_train_part_01/dfdc_train_part_1/metadata.json\").T\n",
    "df['n_label'] = le.fit_transform(df.label.values)"
   ]
  },
  {
   "cell_type": "code",
   "execution_count": 10,
   "metadata": {},
   "outputs": [
    {
     "data": {
      "text/html": [
       "<div>\n",
       "<style scoped>\n",
       "    .dataframe tbody tr th:only-of-type {\n",
       "        vertical-align: middle;\n",
       "    }\n",
       "\n",
       "    .dataframe tbody tr th {\n",
       "        vertical-align: top;\n",
       "    }\n",
       "\n",
       "    .dataframe thead th {\n",
       "        text-align: right;\n",
       "    }\n",
       "</style>\n",
       "<table border=\"1\" class=\"dataframe\">\n",
       "  <thead>\n",
       "    <tr style=\"text-align: right;\">\n",
       "      <th></th>\n",
       "      <th>label</th>\n",
       "      <th>split</th>\n",
       "      <th>original</th>\n",
       "      <th>n_label</th>\n",
       "    </tr>\n",
       "  </thead>\n",
       "  <tbody>\n",
       "    <tr>\n",
       "      <td>zumqqvixhu.mp4</td>\n",
       "      <td>FAKE</td>\n",
       "      <td>train</td>\n",
       "      <td>hntguogkqd.mp4</td>\n",
       "      <td>0</td>\n",
       "    </tr>\n",
       "    <tr>\n",
       "      <td>utdlsqfykm.mp4</td>\n",
       "      <td>FAKE</td>\n",
       "      <td>train</td>\n",
       "      <td>nswtvttxre.mp4</td>\n",
       "      <td>0</td>\n",
       "    </tr>\n",
       "    <tr>\n",
       "      <td>mdfndlljvt.mp4</td>\n",
       "      <td>FAKE</td>\n",
       "      <td>train</td>\n",
       "      <td>ptkcmwnfjv.mp4</td>\n",
       "      <td>0</td>\n",
       "    </tr>\n",
       "    <tr>\n",
       "      <td>maktypgsfl.mp4</td>\n",
       "      <td>FAKE</td>\n",
       "      <td>train</td>\n",
       "      <td>objgwnmscm.mp4</td>\n",
       "      <td>0</td>\n",
       "    </tr>\n",
       "    <tr>\n",
       "      <td>pleqihjpif.mp4</td>\n",
       "      <td>FAKE</td>\n",
       "      <td>train</td>\n",
       "      <td>xrhqtmxlvx.mp4</td>\n",
       "      <td>0</td>\n",
       "    </tr>\n",
       "    <tr>\n",
       "      <td>...</td>\n",
       "      <td>...</td>\n",
       "      <td>...</td>\n",
       "      <td>...</td>\n",
       "      <td>...</td>\n",
       "    </tr>\n",
       "    <tr>\n",
       "      <td>qjdtgggqym.mp4</td>\n",
       "      <td>REAL</td>\n",
       "      <td>train</td>\n",
       "      <td>NaN</td>\n",
       "      <td>1</td>\n",
       "    </tr>\n",
       "    <tr>\n",
       "      <td>jzmzdispyo.mp4</td>\n",
       "      <td>REAL</td>\n",
       "      <td>train</td>\n",
       "      <td>NaN</td>\n",
       "      <td>1</td>\n",
       "    </tr>\n",
       "    <tr>\n",
       "      <td>qeaxtxpvyq.mp4</td>\n",
       "      <td>FAKE</td>\n",
       "      <td>train</td>\n",
       "      <td>keioymnobc.mp4</td>\n",
       "      <td>0</td>\n",
       "    </tr>\n",
       "    <tr>\n",
       "      <td>bfeewgzrbr.mp4</td>\n",
       "      <td>FAKE</td>\n",
       "      <td>train</td>\n",
       "      <td>qjdtgggqym.mp4</td>\n",
       "      <td>0</td>\n",
       "    </tr>\n",
       "    <tr>\n",
       "      <td>tovxgyattq.mp4</td>\n",
       "      <td>FAKE</td>\n",
       "      <td>train</td>\n",
       "      <td>hjhdhumvod.mp4</td>\n",
       "      <td>0</td>\n",
       "    </tr>\n",
       "  </tbody>\n",
       "</table>\n",
       "<p>1699 rows × 4 columns</p>\n",
       "</div>"
      ],
      "text/plain": [
       "               label  split        original  n_label\n",
       "zumqqvixhu.mp4  FAKE  train  hntguogkqd.mp4        0\n",
       "utdlsqfykm.mp4  FAKE  train  nswtvttxre.mp4        0\n",
       "mdfndlljvt.mp4  FAKE  train  ptkcmwnfjv.mp4        0\n",
       "maktypgsfl.mp4  FAKE  train  objgwnmscm.mp4        0\n",
       "pleqihjpif.mp4  FAKE  train  xrhqtmxlvx.mp4        0\n",
       "...              ...    ...             ...      ...\n",
       "qjdtgggqym.mp4  REAL  train             NaN        1\n",
       "jzmzdispyo.mp4  REAL  train             NaN        1\n",
       "qeaxtxpvyq.mp4  FAKE  train  keioymnobc.mp4        0\n",
       "bfeewgzrbr.mp4  FAKE  train  qjdtgggqym.mp4        0\n",
       "tovxgyattq.mp4  FAKE  train  hjhdhumvod.mp4        0\n",
       "\n",
       "[1699 rows x 4 columns]"
      ]
     },
     "execution_count": 10,
     "metadata": {},
     "output_type": "execute_result"
    }
   ],
   "source": [
    "for i in enumerate"
   ]
  },
  {
   "cell_type": "code",
   "execution_count": 80,
   "metadata": {},
   "outputs": [],
   "source": [
    "dataset = VideoDataset(\"dfdc_train_part_01/dfdc_train_part_1/metadata.json\", \"dfdc_train_part_01/dfdc_train_part_1\", frame_model, audio_model, img_transforms)"
   ]
  },
  {
   "cell_type": "code",
   "execution_count": 81,
   "metadata": {},
   "outputs": [
    {
     "name": "stdout",
     "output_type": "stream",
     "text": [
      "Duration is:  26.450217962265015\n"
     ]
    }
   ],
   "source": [
    "t0 = time.time()\n",
    "out = next(iter(dataset))\n",
    "t1 = time.time()\n",
    "\n",
    "print(\"Duration is: \", t1-t0)"
   ]
  },
  {
   "cell_type": "code",
   "execution_count": 84,
   "metadata": {},
   "outputs": [
    {
     "data": {
      "text/plain": [
       "torch.Size([300, 2048])"
      ]
     },
     "execution_count": 84,
     "metadata": {},
     "output_type": "execute_result"
    }
   ],
   "source": [
    "out[0].shape"
   ]
  },
  {
   "cell_type": "code",
   "execution_count": 86,
   "metadata": {},
   "outputs": [],
   "source": [
    "train_loader = DataLoader(dataset, batch_size=2, shuffle=True)\n"
   ]
  },
  {
   "cell_type": "code",
   "execution_count": 87,
   "metadata": {},
   "outputs": [],
   "source": [
    "for data in train_loader:\n",
    "    out = data\n",
    "    break"
   ]
  },
  {
   "cell_type": "code",
   "execution_count": 90,
   "metadata": {},
   "outputs": [
    {
     "data": {
      "text/plain": [
       "torch.Size([2, 300, 2048])"
      ]
     },
     "execution_count": 90,
     "metadata": {},
     "output_type": "execute_result"
    }
   ],
   "source": [
    "out[0].shape"
   ]
  },
  {
   "cell_type": "code",
   "execution_count": 37,
   "metadata": {},
   "outputs": [],
   "source": [
    "out[0] = out[0].squeeze(2)#.shape"
   ]
  },
  {
   "cell_type": "code",
   "execution_count": 17,
   "metadata": {},
   "outputs": [
    {
     "name": "stdout",
     "output_type": "stream",
     "text": [
      "Duration is:  0.00020956993103027344\n"
     ]
    }
   ],
   "source": [
    "t0 = time.time()\n",
    "\n",
    "out = train_loader.batch_sampler\n",
    "\n",
    "t1 = time.time()\n",
    "\n",
    "print(\"Duration is: \", t1-t0)"
   ]
  },
  {
   "cell_type": "code",
   "execution_count": 18,
   "metadata": {},
   "outputs": [
    {
     "ename": "TypeError",
     "evalue": "'BatchSampler' object is not callable",
     "output_type": "error",
     "traceback": [
      "\u001b[0;31m---------------------------------------------------------------------------\u001b[0m",
      "\u001b[0;31mTypeError\u001b[0m                                 Traceback (most recent call last)",
      "\u001b[0;32m<ipython-input-18-15bd1a7dda54>\u001b[0m in \u001b[0;36m<module>\u001b[0;34m\u001b[0m\n\u001b[0;32m----> 1\u001b[0;31m \u001b[0mout\u001b[0m\u001b[0;34m(\u001b[0m\u001b[0;36m4\u001b[0m\u001b[0;34m)\u001b[0m\u001b[0;34m\u001b[0m\u001b[0;34m\u001b[0m\u001b[0m\n\u001b[0m",
      "\u001b[0;31mTypeError\u001b[0m: 'BatchSampler' object is not callable"
     ]
    }
   ],
   "source": []
  },
  {
   "cell_type": "code",
   "execution_count": 24,
   "metadata": {},
   "outputs": [
    {
     "name": "stdout",
     "output_type": "stream",
     "text": [
      "300\n",
      "CPU times: user 2min 7s, sys: 1.48 s, total: 2min 8s\n",
      "Wall time: 32.4 s\n"
     ]
    }
   ],
   "source": [
    "%time out = next(iter(dataset))"
   ]
  },
  {
   "cell_type": "code",
   "execution_count": 74,
   "metadata": {},
   "outputs": [
    {
     "data": {
      "text/plain": [
       "torch.Size([1, 1, 50])"
      ]
     },
     "execution_count": 74,
     "metadata": {},
     "output_type": "execute_result"
    }
   ],
   "source": [
    "out[1].shape"
   ]
  },
  {
   "cell_type": "code",
   "execution_count": 57,
   "metadata": {},
   "outputs": [
    {
     "data": {
      "text/plain": [
       "tensor([[0.0609, 0.1742, 0.3809,  ..., 0.3465, 1.4547, 0.1772]],\n",
       "       dtype=torch.float64)"
      ]
     },
     "execution_count": 57,
     "metadata": {},
     "output_type": "execute_result"
    }
   ],
   "source": [
    "out[0][-1,:,:]"
   ]
  },
  {
   "cell_type": "code",
   "execution_count": null,
   "metadata": {
    "colab": {},
    "colab_type": "code",
    "id": "LyoayziBfNUd"
   },
   "outputs": [],
   "source": [
    "file_path = '/content/UrbanSound8K/metadata/UrbanSound8K.csv'\n",
    "audio_paths = '/content/UrbanSound8K/audio'"
   ]
  },
  {
   "cell_type": "code",
   "execution_count": null,
   "metadata": {
    "colab": {},
    "colab_type": "code",
    "id": "Gvso6Q9cfSRw"
   },
   "outputs": [],
   "source": [
    "#Glorot Initialization Function\n",
    "def init_weights(m):\n",
    "    if type(m) == nn.Conv1d or type(m) == nn.Linear:\n",
    "        nn.init.xavier_uniform_(m.weight.data)"
   ]
  },
  {
   "cell_type": "markdown",
   "metadata": {
    "colab_type": "text",
    "id": "VUC6YxexrKiU"
   },
   "source": [
    "# Model Classes Definition"
   ]
  },
  {
   "cell_type": "code",
   "execution_count": 92,
   "metadata": {
    "colab": {},
    "colab_type": "code",
    "id": "VdgD0iZ6fSPN"
   },
   "outputs": [],
   "source": [
    "class DeepFake(nn.Module):\n",
    "    def __init__(self):\n",
    "        super(DeepFake, self).__init__()\n",
    "        self.LSTM1 = nn.LSTM(2048, 2048, 2, dropout=0.5, batch_first=True)\n",
    "        self.LSTM2 = nn.LSTM(2048, 512, batch_first=True)\n",
    "        self.relu = nn.ReLU()\n",
    "        self.fc1 = nn.Linear(562, 248)\n",
    "        self.fc2 = nn.Linear(248, 2)\n",
    "        \n",
    "    def forward(self, x, y):\n",
    "        x, _hidden = self.LSTM1(x.float())\n",
    "        x = self.relu(x)\n",
    "        h = _hidden[0].mean(0).unsqueeze(0)\n",
    "        c = _hidden[1].mean(0).unsqueeze(0)\n",
    "        x, _ = self.LSTM2(x) #, (h, c))\n",
    "        print(x[:, -1, :].shape)\n",
    "        print(y.shape)\n",
    "        combined = torch.cat((x[:, -1, :], y.squeeze(1)), 1)\n",
    "        x = self.relu(self.fc1(combined))\n",
    "        x = self.fc2(x)\n",
    "        return x\n",
    "\n",
    "net = DeepFake()\n",
    "criterion = nn.CrossEntropyLoss()\n",
    "optimizer = torch.optim.Adam(net.parameters(), lr=1e-5, weight_decay=1e-6)\n"
   ]
  },
  {
   "cell_type": "code",
   "execution_count": 93,
   "metadata": {},
   "outputs": [
    {
     "data": {
      "text/plain": [
       "torch.Size([2, 300, 2048])"
      ]
     },
     "execution_count": 93,
     "metadata": {},
     "output_type": "execute_result"
    }
   ],
   "source": [
    "out[0].shape"
   ]
  },
  {
   "cell_type": "code",
   "execution_count": 94,
   "metadata": {
    "colab": {},
    "colab_type": "code",
    "id": "zpxdqgxqdk6S"
   },
   "outputs": [
    {
     "name": "stdout",
     "output_type": "stream",
     "text": [
      "torch.Size([2, 512])\n",
      "torch.Size([2, 1, 50])\n",
      "CPU times: user 31.4 s, sys: 35.9 ms, total: 31.4 s\n",
      "Wall time: 7.86 s\n"
     ]
    }
   ],
   "source": [
    "%time output = net(out[0], out[1])"
   ]
  },
  {
   "cell_type": "code",
   "execution_count": 95,
   "metadata": {},
   "outputs": [
    {
     "data": {
      "text/plain": [
       "torch.Size([2, 2])"
      ]
     },
     "execution_count": 95,
     "metadata": {},
     "output_type": "execute_result"
    }
   ],
   "source": [
    "output.shape"
   ]
  },
  {
   "cell_type": "code",
   "execution_count": 60,
   "metadata": {},
   "outputs": [
    {
     "data": {
      "text/plain": [
       "torch.Size([1, 2])"
      ]
     },
     "execution_count": 60,
     "metadata": {},
     "output_type": "execute_result"
    }
   ],
   "source": [
    "output.shape"
   ]
  },
  {
   "cell_type": "code",
   "execution_count": 61,
   "metadata": {},
   "outputs": [
    {
     "data": {
      "text/plain": [
       "tensor(0.0063, grad_fn=<NllLossBackward>)"
      ]
     },
     "execution_count": 61,
     "metadata": {},
     "output_type": "execute_result"
    }
   ],
   "source": [
    "loss = criterion(output, torch.tensor(out[-1]).unsqueeze(0))\n",
    "loss"
   ]
  },
  {
   "cell_type": "markdown",
   "metadata": {
    "colab_type": "text",
    "id": "n_E-kj5ArKi2"
   },
   "source": [
    "## One-Epoch Train and Test Functions"
   ]
  },
  {
   "cell_type": "code",
   "execution_count": null,
   "metadata": {
    "colab": {},
    "colab_type": "code",
    "id": "jBp2qIqHKt8Q"
   },
   "outputs": [],
   "source": [
    "\n",
    "def train(model, train_loader, optimizer, criterion):\n",
    "  model.train()\n",
    "  train_loss = 0\n",
    "  train_correct = 0\n",
    "  for data, label in train_loader:\n",
    "    data = data.to(device)\n",
    "    label = label.to(device)\n",
    "    optimizer.zero_grad()\n",
    "    out = model(data)\n",
    "    train_correct += (torch.argmax(out, dim=1).eq_(label).sum()).item()\n",
    "    loss = criterion(out, label)\n",
    "    train_loss += loss.item()\n",
    "    loss.backward()\n",
    "    optimizer.step()\n",
    "  avg_loss = train_loss/len(train_loader)\n",
    "  accuracy = train_correct/(len(train_loader.dataset))\n",
    "  return avg_loss, accuracy\n",
    "\n",
    "def test(model, test_loader, criterion):\n",
    "  with torch.no_grad():\n",
    "    model.eval()\n",
    "    test_correct = 0\n",
    "    test_loss = 0\n",
    "    for data, label in test_loader:\n",
    "        data = data.to(device)\n",
    "        label = label.to(device)\n",
    "        out2 = model(data)\n",
    "        loss2 = criterion(out2, label)\n",
    "        test_loss += loss2.item()\n",
    "        test_correct += (torch.argmax(out2, dim=1).eq_(label).sum()).item()\n",
    "    avg_loss = test_loss/len(test_loader)\n",
    "    accuracy = test_correct/len(test_loader.dataset)  \n",
    "  return avg_loss, accuracy\n"
   ]
  },
  {
   "cell_type": "markdown",
   "metadata": {
    "colab_type": "text",
    "id": "p-PSSHn0rKi7"
   },
   "source": [
    "# Train for all Models and all Folds for 10 epoch each\n",
    "### Log results to Tensorboard and JSON file"
   ]
  },
  {
   "cell_type": "code",
   "execution_count": null,
   "metadata": {
    "colab": {
     "base_uri": "https://localhost:8080/",
     "height": 1000
    },
    "colab_type": "code",
    "collapsed": true,
    "id": "hxNItZZsK5Xd",
    "jupyter": {
     "outputs_hidden": true
    },
    "outputId": "4ebeffdf-af78-4f55-8000-1e95aa46426f"
   },
   "outputs": [
    {
     "name": "stdout",
     "output_type": "stream",
     "text": [
      "Train Loss at 1/10 is 1.9544590772503483 | Train accuracy:0.31436097114063216 | Time:103.266526222229\n",
      "Test Loss at 1/10 is 1.9544590772503483 | Test accuracy:0.31436097114063216 | Time:7.592396020889282\n",
      "Train Loss at 2/10 is 1.7023153287650894 | Train accuracy:0.4071232249198351 | Time:85.67500424385071\n",
      "Test Loss at 2/10 is 1.7023153287650894 | Test accuracy:0.4071232249198351 | Time:7.012881755828857\n",
      "Train Loss at 3/10 is 1.5954135899996236 | Train accuracy:0.4445716903344022 | Time:77.00282979011536\n",
      "Test Loss at 3/10 is 1.5954135899996236 | Test accuracy:0.4445716903344022 | Time:6.974988698959351\n",
      "Train Loss at 4/10 is 1.5253564406485454 | Train accuracy:0.4705680256527714 | Time:68.96403694152832\n",
      "Test Loss at 4/10 is 1.5253564406485454 | Test accuracy:0.4705680256527714 | Time:6.9713146686553955\n",
      "Train Loss at 5/10 is 1.5229286277381173 | Train accuracy:0.4740036646816308 | Time:68.96565890312195\n",
      "Test Loss at 5/10 is 1.5229286277381173 | Test accuracy:0.4740036646816308 | Time:7.119021654129028\n",
      "Train Loss at 6/10 is 1.4891807876364158 | Train accuracy:0.483737975263399 | Time:68.85322737693787\n",
      "Test Loss at 6/10 is 1.4891807876364158 | Test accuracy:0.483737975263399 | Time:7.0639967918396\n",
      "Train Loss at 7/10 is 1.4676813696422717 | Train accuracy:0.49221255153458543 | Time:68.84951448440552\n",
      "Test Loss at 7/10 is 1.4676813696422717 | Test accuracy:0.49221255153458543 | Time:7.014532566070557\n",
      "Train Loss at 8/10 is 1.4474132556984896 | Train accuracy:0.50057260650481 | Time:68.79944968223572\n",
      "Test Loss at 8/10 is 1.4474132556984896 | Test accuracy:0.50057260650481 | Time:7.017433166503906\n",
      "Train Loss at 9/10 is 1.4236394227856266 | Train accuracy:0.5128263857077416 | Time:68.40369176864624\n",
      "Test Loss at 9/10 is 1.4236394227856266 | Test accuracy:0.5128263857077416 | Time:7.007665395736694\n",
      "Train Loss at 10/10 is 1.4070744227318868 | Train accuracy:0.5133989922125516 | Time:68.75992393493652\n",
      "Test Loss at 10/10 is 1.4070744227318868 | Test accuracy:0.5133989922125516 | Time:7.028505086898804\n",
      "Train Loss at 1/10 is 1.3782090210333102 | Train accuracy:0.5242223355430903 | Time:61.51677107810974\n",
      "Test Loss at 1/10 is 1.3782090210333102 | Test accuracy:0.5242223355430903 | Time:6.672478675842285\n",
      "Train Loss at 2/10 is 1.3567926592943145 | Train accuracy:0.5374808771035187 | Time:61.387792348861694\n",
      "Test Loss at 2/10 is 1.3567926592943145 | Test accuracy:0.5374808771035187 | Time:6.727675676345825\n",
      "Train Loss at 3/10 is 1.3156430740666583 | Train accuracy:0.5558388577256502 | Time:61.80081653594971\n",
      "Test Loss at 3/10 is 1.3156430740666583 | Test accuracy:0.5558388577256502 | Time:6.6679301261901855\n",
      "Train Loss at 4/10 is 1.290528194206517 | Train accuracy:0.5577511473737888 | Time:61.62823152542114\n",
      "Test Loss at 4/10 is 1.290528194206517 | Test accuracy:0.5577511473737888 | Time:6.693868160247803\n",
      "Train Loss at 5/10 is 1.2955664313905608 | Train accuracy:0.5594084650688425 | Time:61.58554148674011\n",
      "Test Loss at 5/10 is 1.2955664313905608 | Test accuracy:0.5594084650688425 | Time:6.70444393157959\n",
      "Train Loss at 6/10 is 1.29066167372029 | Train accuracy:0.5638704742478328 | Time:61.116252422332764\n",
      "Test Loss at 6/10 is 1.29066167372029 | Test accuracy:0.5638704742478328 | Time:6.650015354156494\n",
      "Train Loss at 7/10 is 1.2420813557578296 | Train accuracy:0.5815910249872513 | Time:61.06899952888489\n",
      "Test Loss at 7/10 is 1.2420813557578296 | Test accuracy:0.5815910249872513 | Time:6.596030235290527\n",
      "Train Loss at 8/10 is 1.2465171319682424 | Train accuracy:0.5757266700662927 | Time:61.02609324455261\n",
      "Test Loss at 8/10 is 1.2465171319682424 | Test accuracy:0.5757266700662927 | Time:6.658314228057861\n",
      "Train Loss at 9/10 is 1.2396285451524627 | Train accuracy:0.5809535951045385 | Time:60.98972272872925\n",
      "Test Loss at 9/10 is 1.2396285451524627 | Test accuracy:0.5809535951045385 | Time:6.625445127487183\n",
      "Train Loss at 10/10 is 1.2332808065220593 | Train accuracy:0.581718510963794 | Time:61.26338577270508\n",
      "Test Loss at 10/10 is 1.2332808065220593 | Test accuracy:0.581718510963794 | Time:6.67438530921936\n",
      "Train Loss at 1/10 is 1.2407182010470843 | Train accuracy:0.5764057896759318 | Time:61.19151711463928\n",
      "Test Loss at 1/10 is 1.2407182010470843 | Test accuracy:0.5764057896759318 | Time:6.720913410186768\n",
      "Train Loss at 2/10 is 1.2064199608857515 | Train accuracy:0.5895990777507365 | Time:60.71263933181763\n",
      "Test Loss at 2/10 is 1.2064199608857515 | Test accuracy:0.5895990777507365 | Time:6.718855619430542\n",
      "Train Loss at 3/10 is 1.2011641195563019 | Train accuracy:0.5858844626617139 | Time:61.00510263442993\n",
      "Test Loss at 3/10 is 1.2011641195563019 | Test accuracy:0.5858844626617139 | Time:6.738409757614136\n",
      "Train Loss at 4/10 is 1.1957982939774874 | Train accuracy:0.586396823363648 | Time:60.90754985809326\n",
      "Test Loss at 4/10 is 1.1957982939774874 | Test accuracy:0.586396823363648 | Time:6.775495529174805\n",
      "Train Loss at 5/10 is 1.1635865862252281 | Train accuracy:0.5949788651210453 | Time:60.949734687805176\n",
      "Test Loss at 5/10 is 1.1635865862252281 | Test accuracy:0.5949788651210453 | Time:6.808453321456909\n",
      "Train Loss at 6/10 is 1.1800153949221626 | Train accuracy:0.5953631356474959 | Time:60.68075370788574\n",
      "Test Loss at 6/10 is 1.1800153949221626 | Test accuracy:0.5953631356474959 | Time:6.684094667434692\n",
      "Train Loss at 7/10 is 1.125393332027998 | Train accuracy:0.6158575637248623 | Time:60.51563334465027\n",
      "Test Loss at 7/10 is 1.125393332027998 | Test accuracy:0.6158575637248623 | Time:6.720901012420654\n",
      "Train Loss at 8/10 is 1.1620755097905144 | Train accuracy:0.6065069809145639 | Time:60.75605654716492\n",
      "Test Loss at 8/10 is 1.1620755097905144 | Test accuracy:0.6065069809145639 | Time:6.722201347351074\n",
      "Train Loss at 9/10 is 1.147384913241277 | Train accuracy:0.6043294479313437 | Time:60.76983618736267\n",
      "Test Loss at 9/10 is 1.147384913241277 | Test accuracy:0.6043294479313437 | Time:6.733633279800415\n",
      "Train Loss at 10/10 is 1.1431492430264834 | Train accuracy:0.6181631868835661 | Time:60.60093927383423\n",
      "Test Loss at 10/10 is 1.1431492430264834 | Test accuracy:0.6181631868835661 | Time:6.729923963546753\n",
      "Train Loss at 1/10 is 1.201598704353837 | Train accuracy:0.5923533970550245 | Time:59.916646003723145\n",
      "Test Loss at 1/10 is 1.201598704353837 | Test accuracy:0.5923533970550245 | Time:7.515273809432983\n",
      "Train Loss at 2/10 is 1.1427349482686067 | Train accuracy:0.60643244639628 | Time:59.837388038635254\n",
      "Test Loss at 2/10 is 1.1427349482686067 | Test accuracy:0.60643244639628 | Time:7.544183254241943\n",
      "Train Loss at 3/10 is 1.135853752124408 | Train accuracy:0.6123740635494704 | Time:59.772444009780884\n",
      "Test Loss at 3/10 is 1.135853752124408 | Test accuracy:0.6123740635494704 | Time:7.464621067047119\n",
      "Train Loss at 4/10 is 1.1236784807906663 | Train accuracy:0.6180573495220874 | Time:59.60160446166992\n",
      "Test Loss at 4/10 is 1.1236784807906663 | Test accuracy:0.6180573495220874 | Time:7.493016719818115\n",
      "Train Loss at 5/10 is 1.1221454266674262 | Train accuracy:0.6170240247997933 | Time:59.91523718833923\n",
      "Test Loss at 5/10 is 1.1221454266674262 | Test accuracy:0.6170240247997933 | Time:7.485400676727295\n",
      "Train Loss at 6/10 is 1.0975778019132694 | Train accuracy:0.6224489795918368 | Time:59.7950074672699\n",
      "Test Loss at 6/10 is 1.0975778019132694 | Test accuracy:0.6224489795918368 | Time:7.467135667800903\n",
      "Train Loss at 7/10 is 1.0936958991791592 | Train accuracy:0.6281322655644537 | Time:59.740129470825195\n",
      "Test Loss at 7/10 is 1.0936958991791592 | Test accuracy:0.6281322655644537 | Time:7.462798833847046\n",
      "Train Loss at 8/10 is 1.12157019701871 | Train accuracy:0.6185740118832344 | Time:59.94816184043884\n",
      "Test Loss at 8/10 is 1.12157019701871 | Test accuracy:0.6185740118832344 | Time:7.441828012466431\n",
      "Train Loss at 9/10 is 1.0864793707516567 | Train accuracy:0.6265822784810127 | Time:59.79443335533142\n",
      "Test Loss at 9/10 is 1.0864793707516567 | Test accuracy:0.6265822784810127 | Time:7.444180488586426\n",
      "Train Loss at 10/10 is 1.0794880690653461 | Train accuracy:0.6317489020924826 | Time:59.895792961120605\n",
      "Test Loss at 10/10 is 1.0794880690653461 | Test accuracy:0.6317489020924826 | Time:7.502847909927368\n",
      "Train Loss at 1/10 is 1.1315082941876082 | Train accuracy:0.6263468445356594 | Time:60.43246078491211\n",
      "Test Loss at 1/10 is 1.1315082941876082 | Test accuracy:0.6263468445356594 | Time:7.010691404342651\n",
      "Train Loss at 2/10 is 1.1272557113991408 | Train accuracy:0.6226269881990765 | Time:60.409225940704346\n",
      "Test Loss at 2/10 is 1.1272557113991408 | Test accuracy:0.6226269881990765 | Time:6.968138933181763\n",
      "Train Loss at 3/10 is 1.0941528990620473 | Train accuracy:0.6330169317598768 | Time:60.57380509376526\n",
      "Test Loss at 3/10 is 1.0941528990620473 | Test accuracy:0.6330169317598768 | Time:6.96366286277771\n",
      "Train Loss at 4/10 is 1.106449883003704 | Train accuracy:0.6299384299640841 | Time:60.43859577178955\n",
      "Test Loss at 4/10 is 1.106449883003704 | Test accuracy:0.6299384299640841 | Time:6.932649850845337\n",
      "Train Loss at 5/10 is 1.0887041360628409 | Train accuracy:0.6367367880964597 | Time:60.51745796203613\n",
      "Test Loss at 5/10 is 1.0887041360628409 | Test accuracy:0.6367367880964597 | Time:6.913421154022217\n",
      "Train Loss at 6/10 is 1.1020359392048882 | Train accuracy:0.6321190354027707 | Time:60.334850549697876\n",
      "Test Loss at 6/10 is 1.1020359392048882 | Test accuracy:0.6321190354027707 | Time:6.978342056274414\n",
      "Train Loss at 7/10 is 1.0677512722914335 | Train accuracy:0.6413545407901488 | Time:60.441364765167236\n",
      "Test Loss at 7/10 is 1.0677512722914335 | Test accuracy:0.6413545407901488 | Time:6.958693265914917\n",
      "Train Loss at 8/10 is 1.0615824270443839 | Train accuracy:0.6414828116983068 | Time:60.607540130615234\n",
      "Test Loss at 8/10 is 1.0615824270443839 | Test accuracy:0.6414828116983068 | Time:6.93233585357666\n",
      "Train Loss at 9/10 is 1.085069370562913 | Train accuracy:0.6385325808106721 | Time:61.05326271057129\n",
      "Test Loss at 9/10 is 1.085069370562913 | Test accuracy:0.6385325808106721 | Time:7.0331871509552\n",
      "Train Loss at 10/10 is 1.0690905700941555 | Train accuracy:0.6469984607491021 | Time:61.45584988594055\n",
      "Test Loss at 10/10 is 1.0690905700941555 | Test accuracy:0.6469984607491021 | Time:7.058610200881958\n",
      "Train Loss at 1/10 is 1.0615067193585057 | Train accuracy:0.6449614363383487 | Time:62.39957141876221\n",
      "Test Loss at 1/10 is 1.0615067193585057 | Test accuracy:0.6449614363383487 | Time:6.0224292278289795\n",
      "Train Loss at 2/10 is 1.0619923645450222 | Train accuracy:0.6458465039828044 | Time:61.6863853931427\n",
      "Test Loss at 2/10 is 1.0619923645450222 | Test accuracy:0.6458465039828044 | Time:5.889240026473999\n",
      "Train Loss at 3/10 is 1.0534675082852762 | Train accuracy:0.6502718422050828 | Time:61.427143573760986\n",
      "Test Loss at 3/10 is 1.0534675082852762 | Test accuracy:0.6502718422050828 | Time:5.967406511306763\n",
      "Train Loss at 4/10 is 1.0458875461932151 | Train accuracy:0.6576052598305727 | Time:61.672616481781006\n",
      "Test Loss at 4/10 is 1.0458875461932151 | Test accuracy:0.6576052598305727 | Time:5.846165180206299\n",
      "Train Loss at 5/10 is 1.0535322687318247 | Train accuracy:0.648248830446327 | Time:61.95414614677429\n",
      "Test Loss at 5/10 is 1.0535322687318247 | Test accuracy:0.648248830446327 | Time:5.993974924087524\n",
      "Train Loss at 6/10 is 1.0398754669773964 | Train accuracy:0.6502718422050828 | Time:62.31059169769287\n",
      "Test Loss at 6/10 is 1.0398754669773964 | Test accuracy:0.6502718422050828 | Time:5.980274677276611\n",
      "Train Loss at 7/10 is 1.045853379753328 | Train accuracy:0.6570995068908838 | Time:61.986589431762695\n",
      "Test Loss at 7/10 is 1.045853379753328 | Test accuracy:0.6570995068908838 | Time:5.974685192108154\n",
      "Train Loss at 8/10 is 1.036503197204682 | Train accuracy:0.6526741686686054 | Time:61.77225089073181\n",
      "Test Loss at 8/10 is 1.036503197204682 | Test accuracy:0.6526741686686054 | Time:5.995373964309692\n",
      "Train Loss at 9/10 is 1.0402641805910295 | Train accuracy:0.6464786951574156 | Time:62.09348797798157\n",
      "Test Loss at 9/10 is 1.0402641805910295 | Test accuracy:0.6464786951574156 | Time:5.994287490844727\n",
      "Train Loss at 10/10 is 1.0304680418583654 | Train accuracy:0.648248830446327 | Time:62.17932987213135\n",
      "Test Loss at 10/10 is 1.0304680418583654 | Test accuracy:0.648248830446327 | Time:5.9212806224823\n",
      "Train Loss at 1/10 is 1.0977889756041188 | Train accuracy:0.6336458069419812 | Time:61.549102783203125\n",
      "Test Loss at 1/10 is 1.0977889756041188 | Test accuracy:0.6336458069419812 | Time:6.493889570236206\n",
      "Train Loss at 2/10 is 1.060420716481824 | Train accuracy:0.6489739042310616 | Time:61.61227059364319\n",
      "Test Loss at 2/10 is 1.060420716481824 | Test accuracy:0.6489739042310616 | Time:6.3522539138793945\n",
      "Train Loss at 3/10 is 1.0471106834949986 | Train accuracy:0.6496072966810236 | Time:61.51201581954956\n",
      "Test Loss at 3/10 is 1.0471106834949986 | Test accuracy:0.6496072966810236 | Time:6.2446558475494385\n",
      "Train Loss at 4/10 is 1.0611100456406992 | Train accuracy:0.6426399797314416 | Time:61.46480751037598\n",
      "Test Loss at 4/10 is 1.0611100456406992 | Test accuracy:0.6426399797314416 | Time:6.325546741485596\n",
      "Train Loss at 5/10 is 1.058065151976001 | Train accuracy:0.6498606536610083 | Time:61.64789891242981\n",
      "Test Loss at 5/10 is 1.058065151976001 | Test accuracy:0.6498606536610083 | Time:6.382524490356445\n",
      "Train Loss at 6/10 is 1.06082347948705 | Train accuracy:0.6515074740309096 | Time:61.33339238166809\n",
      "Test Loss at 6/10 is 1.06082347948705 | Test accuracy:0.6515074740309096 | Time:6.423710107803345\n",
      "Train Loss at 7/10 is 1.0409713772035414 | Train accuracy:0.6515074740309096 | Time:61.74415373802185\n",
      "Test Loss at 7/10 is 1.0409713772035414 | Test accuracy:0.6515074740309096 | Time:6.34123682975769\n",
      "Train Loss at 8/10 is 1.0092755637822612 | Train accuracy:0.6591081834304535 | Time:61.61040186882019\n",
      "Test Loss at 8/10 is 1.0092755637822612 | Test accuracy:0.6591081834304535 | Time:6.423101186752319\n",
      "Train Loss at 9/10 is 1.0372710977831194 | Train accuracy:0.6594882189004307 | Time:61.729610204696655\n",
      "Test Loss at 9/10 is 1.0372710977831194 | Test accuracy:0.6594882189004307 | Time:6.448621034622192\n",
      "Train Loss at 10/10 is 1.0203727940397878 | Train accuracy:0.6570813275905751 | Time:61.83065962791443\n",
      "Test Loss at 10/10 is 1.0203727940397878 | Test accuracy:0.6570813275905751 | Time:6.438801288604736\n",
      "Train Loss at 1/10 is 1.0310242137601298 | Train accuracy:0.6487509462528388 | Time:61.56009912490845\n",
      "Test Loss at 1/10 is 1.0310242137601298 | Test accuracy:0.6487509462528388 | Time:6.268054485321045\n",
      "Train Loss at 2/10 is 1.011261508830132 | Train accuracy:0.6606106484986122 | Time:61.94874572753906\n",
      "Test Loss at 2/10 is 1.011261508830132 | Test accuracy:0.6606106484986122 | Time:6.311432838439941\n",
      "Train Loss at 3/10 is 1.0041100767350966 | Train accuracy:0.6665404996214989 | Time:61.63184976577759\n",
      "Test Loss at 3/10 is 1.0041100767350966 | Test accuracy:0.6665404996214989 | Time:6.319678783416748\n",
      "Train Loss at 4/10 is 0.9910964744706308 | Train accuracy:0.6674236689376735 | Time:61.891414165496826\n",
      "Test Loss at 4/10 is 0.9910964744706308 | Test accuracy:0.6674236689376735 | Time:6.32982873916626\n",
      "Train Loss at 5/10 is 1.0006153391253563 | Train accuracy:0.6662881655311632 | Time:61.524096727371216\n",
      "Test Loss at 5/10 is 1.0006153391253563 | Test accuracy:0.6662881655311632 | Time:6.285072326660156\n",
      "Train Loss at 6/10 is 1.0116666387165747 | Train accuracy:0.6616199848599545 | Time:61.715466022491455\n",
      "Test Loss at 6/10 is 1.0116666387165747 | Test accuracy:0.6616199848599545 | Time:6.414950847625732\n",
      "Train Loss at 7/10 is 0.9907118158955728 | Train accuracy:0.6729750189250567 | Time:62.03784394264221\n",
      "Test Loss at 7/10 is 0.9907118158955728 | Test accuracy:0.6729750189250567 | Time:6.331111431121826\n",
      "Train Loss at 8/10 is 1.0009942511397023 | Train accuracy:0.6680545041635125 | Time:62.33026480674744\n",
      "Test Loss at 8/10 is 1.0009942511397023 | Test accuracy:0.6680545041635125 | Time:6.373355865478516\n",
      "Train Loss at 9/10 is 0.9758852864465406 | Train accuracy:0.6751198586929094 | Time:62.09040117263794\n",
      "Test Loss at 9/10 is 0.9758852864465406 | Test accuracy:0.6751198586929094 | Time:6.338789463043213\n",
      "Train Loss at 10/10 is 1.005301830749358 | Train accuracy:0.6646479939439819 | Time:62.20562958717346\n",
      "Test Loss at 10/10 is 1.005301830749358 | Test accuracy:0.6646479939439819 | Time:6.281824588775635\n",
      "Train Loss at 1/10 is 1.03435548130543 | Train accuracy:0.6590449722081859 | Time:61.89544892311096\n",
      "Test Loss at 1/10 is 1.03435548130543 | Test accuracy:0.6590449722081859 | Time:6.422797679901123\n",
      "Train Loss at 2/10 is 1.0121962322342781 | Train accuracy:0.665866599292572 | Time:61.89813828468323\n",
      "Test Loss at 2/10 is 1.0121962322342781 | Test accuracy:0.665866599292572 | Time:6.292421817779541\n",
      "Train Loss at 3/10 is 0.9891965547876973 | Train accuracy:0.667256189994947 | Time:61.22879981994629\n",
      "Test Loss at 3/10 is 0.9891965547876973 | Test accuracy:0.667256189994947 | Time:6.361011028289795\n",
      "Train Loss at 4/10 is 1.0026176538198226 | Train accuracy:0.6663719050025265 | Time:62.042641401290894\n",
      "Test Loss at 4/10 is 1.0026176538198226 | Test accuracy:0.6663719050025265 | Time:6.4534687995910645\n",
      "Train Loss at 5/10 is 0.9964957410289396 | Train accuracy:0.665866599292572 | Time:62.399977922439575\n",
      "Test Loss at 5/10 is 0.9964957410289396 | Test accuracy:0.665866599292572 | Time:6.353437900543213\n",
      "Train Loss at 6/10 is 1.0037041133449924 | Train accuracy:0.6668772107124811 | Time:62.37277317047119\n",
      "Test Loss at 6/10 is 1.0037041133449924 | Test accuracy:0.6668772107124811 | Time:6.457979440689087\n",
      "Train Loss at 7/10 is 0.9880561520976405 | Train accuracy:0.6738251642243558 | Time:62.40251803398132\n",
      "Test Loss at 7/10 is 0.9880561520976405 | Test accuracy:0.6738251642243558 | Time:6.420990943908691\n",
      "Train Loss at 8/10 is 0.9657483437368947 | Train accuracy:0.6755937342091966 | Time:62.31458759307861\n",
      "Test Loss at 8/10 is 0.9657483437368947 | Test accuracy:0.6755937342091966 | Time:6.364121913909912\n",
      "Train Loss at 9/10 is 0.9823415870628049 | Train accuracy:0.6757200606366852 | Time:62.279855251312256\n",
      "Test Loss at 9/10 is 0.9823415870628049 | Test accuracy:0.6757200606366852 | Time:6.486404895782471\n",
      "Train Loss at 10/10 is 1.014903613155888 | Train accuracy:0.6675088428499242 | Time:62.43620848655701\n",
      "Test Loss at 10/10 is 1.014903613155888 | Test accuracy:0.6675088428499242 | Time:6.37857460975647\n",
      "Train Loss at 1/10 is 1.017146043719784 | Train accuracy:0.6629512349588347 | Time:62.28758788108826\n",
      "Test Loss at 1/10 is 1.017146043719784 | Test accuracy:0.6629512349588347 | Time:6.395918846130371\n",
      "Train Loss at 2/10 is 0.990910183037481 | Train accuracy:0.6678910702976567 | Time:62.288880348205566\n",
      "Test Loss at 2/10 is 0.990910183037481 | Test accuracy:0.6678910702976567 | Time:6.535961389541626\n",
      "Train Loss at 3/10 is 1.0011112021823083 | Train accuracy:0.6662444585180494 | Time:61.814772844314575\n",
      "Test Loss at 3/10 is 1.0011112021823083 | Test accuracy:0.6662444585180494 | Time:6.45278525352478\n",
      "Train Loss at 4/10 is 0.9702044249542298 | Train accuracy:0.6780240658644712 | Time:62.02651381492615\n",
      "Test Loss at 4/10 is 0.9702044249542298 | Test accuracy:0.6780240658644712 | Time:6.587135076522827\n",
      "Train Loss at 5/10 is 0.9665286848621983 | Train accuracy:0.6794173527549082 | Time:62.1051287651062\n",
      "Test Loss at 5/10 is 0.9665286848621983 | Test accuracy:0.6794173527549082 | Time:6.493549823760986\n",
      "Train Loss at 6/10 is 0.9618707414596311 | Train accuracy:0.6794173527549082 | Time:62.143094301223755\n",
      "Test Loss at 6/10 is 0.9618707414596311 | Test accuracy:0.6794173527549082 | Time:6.61701512336731\n",
      "Train Loss at 7/10 is 0.9916946652435488 | Train accuracy:0.6681443951868271 | Time:61.93428015708923\n",
      "Test Loss at 7/10 is 0.9916946652435488 | Test accuracy:0.6681443951868271 | Time:6.41341233253479\n",
      "Train Loss at 8/10 is 0.9829519741958187 | Train accuracy:0.6715642811906269 | Time:62.54836678504944\n",
      "Test Loss at 8/10 is 0.9829519741958187 | Test accuracy:0.6715642811906269 | Time:6.568104267120361\n",
      "Train Loss at 9/10 is 0.9971330425431651 | Train accuracy:0.6644711842938569 | Time:62.261990785598755\n",
      "Test Loss at 9/10 is 0.9971330425431651 | Test accuracy:0.6644711842938569 | Time:6.524796724319458\n",
      "Train Loss at 10/10 is 0.9620198352682975 | Train accuracy:0.6752374920835972 | Time:62.22249245643616\n",
      "Test Loss at 10/10 is 0.9620198352682975 | Test accuracy:0.6752374920835972 | Time:6.5697503089904785\n",
      "Train Loss at 1/10 is 2.0202920489067577 | Train accuracy:0.32340815391662847 | Time:62.68040609359741\n",
      "Test Loss at 1/10 is 2.0202920489067577 | Test accuracy:0.32340815391662847 | Time:6.534072399139404\n",
      "Train Loss at 2/10 is 1.6118274048297074 | Train accuracy:0.44869445716903344 | Time:62.42752408981323\n",
      "Test Loss at 2/10 is 1.6118274048297074 | Test accuracy:0.44869445716903344 | Time:6.51270055770874\n",
      "Train Loss at 3/10 is 1.3982813192980132 | Train accuracy:0.5293174530462667 | Time:62.61992573738098\n",
      "Test Loss at 3/10 is 1.3982813192980132 | Test accuracy:0.5293174530462667 | Time:6.528902292251587\n",
      "Train Loss at 4/10 is 1.229086677523425 | Train accuracy:0.5892120934493816 | Time:62.463176012039185\n",
      "Test Loss at 4/10 is 1.229086677523425 | Test accuracy:0.5892120934493816 | Time:6.485982179641724\n",
      "Train Loss at 5/10 is 1.147182370624403 | Train accuracy:0.6174988547869904 | Time:62.54935073852539\n",
      "Test Loss at 5/10 is 1.147182370624403 | Test accuracy:0.6174988547869904 | Time:6.547626495361328\n",
      "Train Loss at 6/10 is 1.0718720150690009 | Train accuracy:0.6426935409986257 | Time:62.80960249900818\n",
      "Test Loss at 6/10 is 1.0718720150690009 | Test accuracy:0.6426935409986257 | Time:6.528551816940308\n",
      "Train Loss at 7/10 is 1.0106695790360445 | Train accuracy:0.663421896472744 | Time:62.56886577606201\n",
      "Test Loss at 7/10 is 1.0106695790360445 | Test accuracy:0.663421896472744 | Time:6.545170783996582\n",
      "Train Loss at 8/10 is 0.9786072595276102 | Train accuracy:0.6744159413650939 | Time:62.69592475891113\n",
      "Test Loss at 8/10 is 0.9786072595276102 | Test accuracy:0.6744159413650939 | Time:6.46883749961853\n",
      "Train Loss at 9/10 is 0.9358479554635765 | Train accuracy:0.6910215300045809 | Time:62.580666303634644\n",
      "Test Loss at 9/10 is 0.9358479554635765 | Test accuracy:0.6910215300045809 | Time:6.496218919754028\n",
      "Train Loss at 10/10 is 0.9141681720740604 | Train accuracy:0.6962895098488319 | Time:62.737202405929565\n",
      "Test Loss at 10/10 is 0.9141681720740604 | Test accuracy:0.6962895098488319 | Time:6.496480226516724\n",
      "Train Loss at 1/10 is 0.8856071083526301 | Train accuracy:0.7016828148903621 | Time:56.441449880599976\n",
      "Test Loss at 1/10 is 0.8856071083526301 | Test accuracy:0.7016828148903621 | Time:6.128849029541016\n",
      "Train Loss at 2/10 is 0.8088528841007047 | Train accuracy:0.7287098419173891 | Time:56.75645613670349\n",
      "Test Loss at 2/10 is 0.8088528841007047 | Test accuracy:0.7287098419173891 | Time:6.16959810256958\n",
      "Train Loss at 3/10 is 0.7846672847503569 | Train accuracy:0.7390362060173381 | Time:58.36549186706543\n",
      "Test Loss at 3/10 is 0.7846672847503569 | Test accuracy:0.7390362060173381 | Time:6.289906024932861\n",
      "Train Loss at 4/10 is 0.7582831540243412 | Train accuracy:0.7535696073431922 | Time:57.335675954818726\n",
      "Test Loss at 4/10 is 0.7582831540243412 | Test accuracy:0.7535696073431922 | Time:6.180259466171265\n",
      "Train Loss at 5/10 is 0.7855268031116424 | Train accuracy:0.7368689444161143 | Time:56.48444151878357\n",
      "Test Loss at 5/10 is 0.7855268031116424 | Test accuracy:0.7368689444161143 | Time:6.247915029525757\n",
      "Train Loss at 6/10 is 0.7205361365302791 | Train accuracy:0.7576491585925548 | Time:56.80485653877258\n",
      "Test Loss at 6/10 is 0.7205361365302791 | Test accuracy:0.7576491585925548 | Time:6.341145038604736\n",
      "Train Loss at 7/10 is 0.6783296051548748 | Train accuracy:0.7768995410504844 | Time:58.358359575271606\n",
      "Test Loss at 7/10 is 0.6783296051548748 | Test accuracy:0.7768995410504844 | Time:6.243987083435059\n",
      "Train Loss at 8/10 is 0.7242909422734889 | Train accuracy:0.7627485976542581 | Time:58.71641826629639\n",
      "Test Loss at 8/10 is 0.7242909422734889 | Test accuracy:0.7627485976542581 | Time:6.259780168533325\n",
      "Train Loss at 9/10 is 0.6556894030512833 | Train accuracy:0.7812340642529322 | Time:58.75812482833862\n",
      "Test Loss at 9/10 is 0.6556894030512833 | Test accuracy:0.7812340642529322 | Time:6.25782322883606\n",
      "Train Loss at 10/10 is 0.67122368865866 | Train accuracy:0.7743498215196328 | Time:57.5824511051178\n",
      "Test Loss at 10/10 is 0.67122368865866 | Test accuracy:0.7743498215196328 | Time:6.2086567878723145\n",
      "Train Loss at 1/10 is 0.6873388971950187 | Train accuracy:0.773408479569617 | Time:58.801600217819214\n",
      "Test Loss at 1/10 is 0.6873388971950187 | Test accuracy:0.773408479569617 | Time:6.378798484802246\n",
      "Train Loss at 2/10 is 0.6465473451086732 | Train accuracy:0.7831433329063661 | Time:57.73925471305847\n",
      "Test Loss at 2/10 is 0.6465473451086732 | Test accuracy:0.7831433329063661 | Time:6.401612043380737\n",
      "Train Loss at 3/10 is 0.6200141061524875 | Train accuracy:0.7899321122069938 | Time:58.55266094207764\n",
      "Test Loss at 3/10 is 0.6200141061524875 | Test accuracy:0.7899321122069938 | Time:6.317453861236572\n",
      "Train Loss at 4/10 is 0.6016257688647411 | Train accuracy:0.8019725887024465 | Time:57.4915087223053\n",
      "Test Loss at 4/10 is 0.6016257688647411 | Test accuracy:0.8019725887024465 | Time:6.3466057777404785\n",
      "Train Loss at 5/10 is 0.5730087925664714 | Train accuracy:0.8095299090559754 | Time:56.66075110435486\n",
      "Test Loss at 5/10 is 0.5730087925664714 | Test accuracy:0.8095299090559754 | Time:6.280280113220215\n",
      "Train Loss at 6/10 is 0.543265377888914 | Train accuracy:0.8206737543230435 | Time:58.49401116371155\n",
      "Test Loss at 6/10 is 0.543265377888914 | Test accuracy:0.8206737543230435 | Time:6.39316201210022\n",
      "Train Loss at 7/10 is 0.5784622096135968 | Train accuracy:0.8073523760727552 | Time:57.41468691825867\n",
      "Test Loss at 7/10 is 0.5784622096135968 | Test accuracy:0.8073523760727552 | Time:6.326842546463013\n",
      "Train Loss at 8/10 is 0.5708682219513127 | Train accuracy:0.8115793518637121 | Time:57.90307331085205\n",
      "Test Loss at 8/10 is 0.5708682219513127 | Test accuracy:0.8115793518637121 | Time:6.665698528289795\n",
      "Train Loss at 9/10 is 0.5261184017433495 | Train accuracy:0.8231074676572306 | Time:58.11604166030884\n",
      "Test Loss at 9/10 is 0.5261184017433495 | Test accuracy:0.8231074676572306 | Time:6.364542007446289\n",
      "Train Loss at 10/10 is 0.5169737817811184 | Train accuracy:0.8286153452030229 | Time:58.73305082321167\n",
      "Test Loss at 10/10 is 0.5169737817811184 | Test accuracy:0.8286153452030229 | Time:6.3840651512146\n",
      "Train Loss at 1/10 is 0.5775254373708048 | Train accuracy:0.8071557737018858 | Time:56.66456961631775\n",
      "Test Loss at 1/10 is 0.5775254373708048 | Test accuracy:0.8071557737018858 | Time:7.1673424243927\n",
      "Train Loss at 2/10 is 0.5552508776838129 | Train accuracy:0.8140015499870834 | Time:57.20926094055176\n",
      "Test Loss at 2/10 is 0.5552508776838129 | Test accuracy:0.8140015499870834 | Time:7.255073308944702\n",
      "Train Loss at 3/10 is 0.52610110891752 | Train accuracy:0.827563936967192 | Time:56.53713369369507\n",
      "Test Loss at 3/10 is 0.52610110891752 | Test accuracy:0.827563936967192 | Time:7.2250354290008545\n",
      "Train Loss at 4/10 is 0.5335914756148314 | Train accuracy:0.8164556962025317 | Time:57.998302698135376\n",
      "Test Loss at 4/10 is 0.5335914756148314 | Test accuracy:0.8164556962025317 | Time:7.2353174686431885\n",
      "Train Loss at 5/10 is 0.5367121070869698 | Train accuracy:0.8183931800568328 | Time:57.51538348197937\n",
      "Test Loss at 5/10 is 0.5367121070869698 | Test accuracy:0.8183931800568328 | Time:7.425964117050171\n",
      "Train Loss at 6/10 is 0.5177715679338156 | Train accuracy:0.8235598036683027 | Time:56.479732036590576\n",
      "Test Loss at 6/10 is 0.5177715679338156 | Test accuracy:0.8235598036683027 | Time:7.2293102741241455\n",
      "Train Loss at 7/10 is 0.47812421878507316 | Train accuracy:0.8389305089124257 | Time:56.98607778549194\n",
      "Test Loss at 7/10 is 0.47812421878507316 | Test accuracy:0.8389305089124257 | Time:7.346153020858765\n",
      "Train Loss at 8/10 is 0.520180754548262 | Train accuracy:0.8217514854042883 | Time:56.26240253448486\n",
      "Test Loss at 8/10 is 0.520180754548262 | Test accuracy:0.8217514854042883 | Time:7.5246686935424805\n",
      "Train Loss at 9/10 is 0.4985446634371419 | Train accuracy:0.8297597520020666 | Time:58.483426094055176\n",
      "Test Loss at 9/10 is 0.4985446634371419 | Test accuracy:0.8297597520020666 | Time:7.090488433837891\n",
      "Train Loss at 10/10 is 0.4879270683635365 | Train accuracy:0.8369930250581246 | Time:55.945826292037964\n",
      "Test Loss at 10/10 is 0.4879270683635365 | Test accuracy:0.8369930250581246 | Time:7.093257188796997\n",
      "Train Loss at 1/10 is 0.5354374672790043 | Train accuracy:0.8288866085171883 | Time:57.32709455490112\n",
      "Test Loss at 1/10 is 0.5354374672790043 | Test accuracy:0.8288866085171883 | Time:6.596571207046509\n",
      "Train Loss at 2/10 is 0.49091689850463244 | Train accuracy:0.8376090302719343 | Time:57.76413655281067\n",
      "Test Loss at 2/10 is 0.49091689850463244 | Test accuracy:0.8376090302719343 | Time:6.592136859893799\n",
      "Train Loss at 3/10 is 0.49265029452374726 | Train accuracy:0.8368394048229861 | Time:57.380096673965454\n",
      "Test Loss at 3/10 is 0.49265029452374726 | Test accuracy:0.8368394048229861 | Time:6.630292892456055\n",
      "Train Loss at 4/10 is 0.46243252568557613 | Train accuracy:0.8441508465879939 | Time:58.17137265205383\n",
      "Test Loss at 4/10 is 0.46243252568557613 | Test accuracy:0.8441508465879939 | Time:6.525153398513794\n",
      "Train Loss at 5/10 is 0.4874953007111784 | Train accuracy:0.8414571575166753 | Time:56.9474310874939\n",
      "Test Loss at 5/10 is 0.4874953007111784 | Test accuracy:0.8414571575166753 | Time:7.020074367523193\n",
      "Train Loss at 6/10 is 0.47581670127931186 | Train accuracy:0.8397896357106208 | Time:59.67053198814392\n",
      "Test Loss at 6/10 is 0.47581670127931186 | Test accuracy:0.8397896357106208 | Time:6.713555097579956\n",
      "Train Loss at 7/10 is 0.4520695106905015 | Train accuracy:0.8473576192919446 | Time:57.18741416931152\n",
      "Test Loss at 7/10 is 0.4520695106905015 | Test accuracy:0.8473576192919446 | Time:6.664867877960205\n",
      "Train Loss at 8/10 is 0.46844066703905823 | Train accuracy:0.8383786557208825 | Time:57.77491021156311\n",
      "Test Loss at 8/10 is 0.46844066703905823 | Test accuracy:0.8383786557208825 | Time:7.09070897102356\n",
      "Train Loss at 9/10 is 0.434950843575548 | Train accuracy:0.8563365828630066 | Time:58.14500546455383\n",
      "Test Loss at 9/10 is 0.434950843575548 | Test accuracy:0.8563365828630066 | Time:6.591922044754028\n",
      "Train Loss at 10/10 is 0.48697604422197965 | Train accuracy:0.8353001539250898 | Time:57.110828161239624\n",
      "Test Loss at 10/10 is 0.48697604422197965 | Test accuracy:0.8353001539250898 | Time:6.619083404541016\n",
      "Train Loss at 1/10 is 0.5030919777289513 | Train accuracy:0.8346187887217095 | Time:59.359374046325684\n",
      "Test Loss at 1/10 is 0.5030919777289513 | Test accuracy:0.8346187887217095 | Time:5.899573802947998\n",
      "Train Loss at 2/10 is 0.48643293784510705 | Train accuracy:0.8398027563535213 | Time:58.35944437980652\n",
      "Test Loss at 2/10 is 0.48643293784510705 | Test accuracy:0.8398027563535213 | Time:5.500653028488159\n",
      "Train Loss at 3/10 is 0.4253805790457033 | Train accuracy:0.8604121886458465 | Time:58.084070920944214\n",
      "Test Loss at 3/10 is 0.4253805790457033 | Test accuracy:0.8604121886458465 | Time:5.603986024856567\n",
      "Train Loss at 4/10 is 0.47829842387187865 | Train accuracy:0.8396763181185991 | Time:59.54757595062256\n",
      "Test Loss at 4/10 is 0.47829842387187865 | Test accuracy:0.8396763181185991 | Time:5.525973081588745\n",
      "Train Loss at 5/10 is 0.4488140730367553 | Train accuracy:0.8511821974965229 | Time:57.55250310897827\n",
      "Test Loss at 5/10 is 0.4488140730367553 | Test accuracy:0.8511821974965229 | Time:5.554463624954224\n",
      "Train Loss at 6/10 is 0.41149180598797336 | Train accuracy:0.8678720445062587 | Time:58.460434675216675\n",
      "Test Loss at 6/10 is 0.41149180598797336 | Test accuracy:0.8678720445062587 | Time:5.845763444900513\n",
      "Train Loss at 7/10 is 0.41949844240180906 | Train accuracy:0.8619294474649134 | Time:58.622511863708496\n",
      "Test Loss at 7/10 is 0.41949844240180906 | Test accuracy:0.8619294474649134 | Time:5.493225336074829\n",
      "Train Loss at 8/10 is 0.4408763891025897 | Train accuracy:0.8514350739663674 | Time:58.32834219932556\n",
      "Test Loss at 8/10 is 0.4408763891025897 | Test accuracy:0.8514350739663674 | Time:5.588286876678467\n",
      "Train Loss at 9/10 is 0.4186111463894767 | Train accuracy:0.8625616386395246 | Time:58.95006537437439\n",
      "Test Loss at 9/10 is 0.4186111463894767 | Test accuracy:0.8625616386395246 | Time:5.479604482650757\n",
      "Train Loss at 10/10 is 0.4098614757099459 | Train accuracy:0.8640788974585915 | Time:58.28680682182312\n",
      "Test Loss at 10/10 is 0.4098614757099459 | Test accuracy:0.8640788974585915 | Time:5.8807055950164795\n",
      "Train Loss at 1/10 is 0.4574058065491338 | Train accuracy:0.8495059538890296 | Time:58.49756622314453\n",
      "Test Loss at 1/10 is 0.4574058065491338 | Test accuracy:0.8495059538890296 | Time:6.043472528457642\n",
      "Train Loss at 2/10 is 0.4050496387625894 | Train accuracy:0.8666075500380035 | Time:59.40406537055969\n",
      "Test Loss at 2/10 is 0.4050496387625894 | Test accuracy:0.8666075500380035 | Time:6.063857793807983\n",
      "Train Loss at 3/10 is 0.4337515847817544 | Train accuracy:0.8579934127185204 | Time:58.09618616104126\n",
      "Test Loss at 3/10 is 0.4337515847817544 | Test accuracy:0.8579934127185204 | Time:6.087682723999023\n",
      "Train Loss at 4/10 is 0.41693967448607566 | Train accuracy:0.8583734481884976 | Time:58.863028049468994\n",
      "Test Loss at 4/10 is 0.41693967448607566 | Test accuracy:0.8583734481884976 | Time:6.034579277038574\n",
      "Train Loss at 5/10 is 0.40014867051955194 | Train accuracy:0.8706612617177604 | Time:57.60284781455994\n",
      "Test Loss at 5/10 is 0.40014867051955194 | Test accuracy:0.8706612617177604 | Time:5.9994378089904785\n",
      "Train Loss at 6/10 is 0.416140871783418 | Train accuracy:0.8617937674182924 | Time:58.959293365478516\n",
      "Test Loss at 6/10 is 0.416140871783418 | Test accuracy:0.8617937674182924 | Time:6.0775816440582275\n",
      "Train Loss at 7/10 is 0.43510496412073413 | Train accuracy:0.8557131998986572 | Time:59.54173541069031\n",
      "Test Loss at 7/10 is 0.43510496412073413 | Test accuracy:0.8557131998986572 | Time:6.093864679336548\n",
      "Train Loss at 8/10 is 0.37723629909657663 | Train accuracy:0.876615150747403 | Time:58.30989336967468\n",
      "Test Loss at 8/10 is 0.37723629909657663 | Test accuracy:0.876615150747403 | Time:6.03048300743103\n",
      "Train Loss at 9/10 is 0.38882008555435366 | Train accuracy:0.8718013681276919 | Time:59.34621000289917\n",
      "Test Loss at 9/10 is 0.38882008555435366 | Test accuracy:0.8718013681276919 | Time:6.112612247467041\n",
      "Train Loss at 10/10 is 0.4194277999622206 | Train accuracy:0.8612870534583228 | Time:58.033010959625244\n",
      "Test Loss at 10/10 is 0.4194277999622206 | Test accuracy:0.8612870534583228 | Time:6.0480310916900635\n",
      "Train Loss at 1/10 is 0.4340656209857233 | Train accuracy:0.8560434014635377 | Time:58.96215844154358\n",
      "Test Loss at 1/10 is 0.4340656209857233 | Test accuracy:0.8560434014635377 | Time:6.016568660736084\n",
      "Train Loss at 2/10 is 0.3842066400233776 | Train accuracy:0.8749684582387081 | Time:57.77652335166931\n",
      "Test Loss at 2/10 is 0.3842066400233776 | Test accuracy:0.8749684582387081 | Time:5.9575183391571045\n",
      "Train Loss at 3/10 is 0.40049023721967975 | Train accuracy:0.8637395912187736 | Time:59.53763175010681\n",
      "Test Loss at 3/10 is 0.40049023721967975 | Test accuracy:0.8637395912187736 | Time:6.072033166885376\n",
      "Train Loss at 4/10 is 0.3730651802353321 | Train accuracy:0.8729497855160232 | Time:58.28960299491882\n",
      "Test Loss at 4/10 is 0.3730651802353321 | Test accuracy:0.8729497855160232 | Time:6.076142311096191\n",
      "Train Loss at 5/10 is 0.38928865593287254 | Train accuracy:0.8670199343931365 | Time:58.54112911224365\n",
      "Test Loss at 5/10 is 0.38928865593287254 | Test accuracy:0.8670199343931365 | Time:6.131415367126465\n",
      "Train Loss at 6/10 is 0.38249423559154233 | Train accuracy:0.8753469593742115 | Time:58.96339511871338\n",
      "Test Loss at 6/10 is 0.38249423559154233 | Test accuracy:0.8753469593742115 | Time:5.916049003601074\n",
      "Train Loss at 7/10 is 0.38240338501430327 | Train accuracy:0.8763562957355538 | Time:58.377901554107666\n",
      "Test Loss at 7/10 is 0.38240338501430327 | Test accuracy:0.8763562957355538 | Time:6.069472551345825\n",
      "Train Loss at 8/10 is 0.37105232489205175 | Train accuracy:0.8734544536966944 | Time:58.250964641571045\n",
      "Test Loss at 8/10 is 0.37105232489205175 | Test accuracy:0.8734544536966944 | Time:5.989013433456421\n",
      "Train Loss at 9/10 is 0.397316716731556 | Train accuracy:0.8641180923542771 | Time:57.40587282180786\n",
      "Test Loss at 9/10 is 0.397316716731556 | Test accuracy:0.8641180923542771 | Time:5.826061487197876\n",
      "Train Loss at 10/10 is 0.4087677774650435 | Train accuracy:0.8652535957607873 | Time:56.48134708404541\n",
      "Test Loss at 10/10 is 0.4087677774650435 | Test accuracy:0.8652535957607873 | Time:5.876157283782959\n",
      "Train Loss at 1/10 is 0.4378510070664267 | Train accuracy:0.857377463365336 | Time:56.223798751831055\n",
      "Test Loss at 1/10 is 0.4378510070664267 | Test accuracy:0.857377463365336 | Time:5.858464241027832\n",
      "Train Loss at 2/10 is 0.3847923833997019 | Train accuracy:0.8703890853966649 | Time:56.68956184387207\n",
      "Test Loss at 2/10 is 0.3847923833997019 | Test accuracy:0.8703890853966649 | Time:5.964860200881958\n",
      "Train Loss at 3/10 is 0.4068550134618436 | Train accuracy:0.8653360282971198 | Time:56.780815839767456\n",
      "Test Loss at 3/10 is 0.4068550134618436 | Test accuracy:0.8653360282971198 | Time:5.892383813858032\n",
      "Train Loss at 4/10 is 0.3719799148459588 | Train accuracy:0.8774633653360283 | Time:56.829662799835205\n",
      "Test Loss at 4/10 is 0.3719799148459588 | Test accuracy:0.8774633653360283 | Time:5.85994291305542\n",
      "Train Loss at 5/10 is 0.3932118969819238 | Train accuracy:0.8711470439615968 | Time:56.85107350349426\n",
      "Test Loss at 5/10 is 0.3932118969819238 | Test accuracy:0.8711470439615968 | Time:5.830491781234741\n",
      "Train Loss at 6/10 is 0.3784052406347567 | Train accuracy:0.8764527539161192 | Time:56.59002995491028\n",
      "Test Loss at 6/10 is 0.3784052406347567 | Test accuracy:0.8764527539161192 | Time:5.913922309875488\n",
      "Train Loss at 7/10 is 0.35758284377234595 | Train accuracy:0.8849166245578575 | Time:56.91262197494507\n",
      "Test Loss at 7/10 is 0.35758284377234595 | Test accuracy:0.8849166245578575 | Time:5.888086795806885\n",
      "Train Loss at 8/10 is 0.37702648305604536 | Train accuracy:0.8769580596260738 | Time:56.787893772125244\n",
      "Test Loss at 8/10 is 0.37702648305604536 | Test accuracy:0.8769580596260738 | Time:5.949801206588745\n",
      "Train Loss at 9/10 is 0.36447721875963673 | Train accuracy:0.8797372410308236 | Time:56.39662480354309\n",
      "Test Loss at 9/10 is 0.36447721875963673 | Test accuracy:0.8797372410308236 | Time:5.755941867828369\n",
      "Train Loss at 10/10 is 0.36796567156430215 | Train accuracy:0.8789792824658919 | Time:56.73355770111084\n",
      "Test Loss at 10/10 is 0.36796567156430215 | Test accuracy:0.8789792824658919 | Time:5.935372591018677\n",
      "Train Loss at 1/10 is 0.394734229652151 | Train accuracy:0.8744775174160861 | Time:56.57045769691467\n",
      "Test Loss at 1/10 is 0.394734229652151 | Test accuracy:0.8744775174160861 | Time:6.015172481536865\n",
      "Train Loss at 2/10 is 0.3555223924979087 | Train accuracy:0.877897403419886 | Time:56.41128063201904\n",
      "Test Loss at 2/10 is 0.3555223924979087 | Test accuracy:0.877897403419886 | Time:5.99018406867981\n",
      "Train Loss at 3/10 is 0.3635449242447653 | Train accuracy:0.8819506016466118 | Time:56.35723257064819\n",
      "Test Loss at 3/10 is 0.3635449242447653 | Test accuracy:0.8819506016466118 | Time:6.049590110778809\n",
      "Train Loss at 4/10 is 0.3594888933002949 | Train accuracy:0.8785307156428119 | Time:56.78192949295044\n",
      "Test Loss at 4/10 is 0.3594888933002949 | Test accuracy:0.8785307156428119 | Time:5.961611986160278\n",
      "Train Loss at 5/10 is 0.36350405600763136 | Train accuracy:0.8796706776440786 | Time:56.889256715774536\n",
      "Test Loss at 5/10 is 0.36350405600763136 | Test accuracy:0.8796706776440786 | Time:6.05800724029541\n",
      "Train Loss at 6/10 is 0.33416314110640555 | Train accuracy:0.8892970234325522 | Time:56.85390090942383\n",
      "Test Loss at 6/10 is 0.33416314110640555 | Test accuracy:0.8892970234325522 | Time:6.0430638790130615\n",
      "Train Loss at 7/10 is 0.3676325248013581 | Train accuracy:0.8773907536415453 | Time:56.57768774032593\n",
      "Test Loss at 7/10 is 0.3676325248013581 | Test accuracy:0.8773907536415453 | Time:6.068149089813232\n",
      "Train Loss at 8/10 is 0.3524544575522023 | Train accuracy:0.8818239392020266 | Time:57.078545331954956\n",
      "Test Loss at 8/10 is 0.3524544575522023 | Test accuracy:0.8818239392020266 | Time:6.109236240386963\n",
      "Train Loss at 9/10 is 0.33191221099226703 | Train accuracy:0.8879037365421153 | Time:57.10850167274475\n",
      "Test Loss at 9/10 is 0.33191221099226703 | Test accuracy:0.8879037365421153 | Time:6.073865652084351\n",
      "Train Loss at 10/10 is 0.3579451766225599 | Train accuracy:0.8776440785307157 | Time:57.0728964805603\n",
      "Test Loss at 10/10 is 0.3579451766225599 | Test accuracy:0.8776440785307157 | Time:6.06174111366272\n",
      "Train Loss at 1/10 is 2.075545867864233 | Train accuracy:0.266262024736601 | Time:60.78396034240723\n",
      "Test Loss at 1/10 is 2.075545867864233 | Test accuracy:0.266262024736601 | Time:6.386995077133179\n",
      "Train Loss at 2/10 is 1.741671702287493 | Train accuracy:0.3918918918918919 | Time:60.45919418334961\n",
      "Test Loss at 2/10 is 1.741671702287493 | Test accuracy:0.3918918918918919 | Time:6.4022297859191895\n",
      "Train Loss at 3/10 is 1.5838591756611844 | Train accuracy:0.440105359596885 | Time:61.10019254684448\n",
      "Test Loss at 3/10 is 1.5838591756611844 | Test accuracy:0.440105359596885 | Time:6.3494133949279785\n",
      "Train Loss at 4/10 is 1.4175407590657254 | Train accuracy:0.5061841502519469 | Time:60.931195974349976\n",
      "Test Loss at 4/10 is 1.4175407590657254 | Test accuracy:0.5061841502519469 | Time:6.41667366027832\n",
      "Train Loss at 5/10 is 1.3096251043960125 | Train accuracy:0.5501603298213468 | Time:60.93567109107971\n",
      "Test Loss at 5/10 is 1.3096251043960125 | Test accuracy:0.5501603298213468 | Time:6.419032335281372\n",
      "Train Loss at 6/10 is 1.2391373654351616 | Train accuracy:0.581310123683005 | Time:61.06621074676514\n",
      "Test Loss at 6/10 is 1.2391373654351616 | Test accuracy:0.581310123683005 | Time:6.427932024002075\n",
      "Train Loss at 7/10 is 1.1734907409570512 | Train accuracy:0.6014658726523133 | Time:61.372615575790405\n",
      "Test Loss at 7/10 is 1.1734907409570512 | Test accuracy:0.6014658726523133 | Time:6.5203187465667725\n",
      "Train Loss at 8/10 is 1.114117587134786 | Train accuracy:0.6149793861658268 | Time:61.05266714096069\n",
      "Test Loss at 8/10 is 1.114117587134786 | Test accuracy:0.6149793861658268 | Time:6.431282997131348\n",
      "Train Loss at 9/10 is 1.0448664261476837 | Train accuracy:0.6486486486486487 | Time:61.086000204086304\n",
      "Test Loss at 9/10 is 1.0448664261476837 | Test accuracy:0.6486486486486487 | Time:6.427296161651611\n",
      "Train Loss at 10/10 is 1.0073469468276866 | Train accuracy:0.663421896472744 | Time:60.685763120651245\n",
      "Test Loss at 10/10 is 1.0073469468276866 | Test accuracy:0.663421896472744 | Time:6.377995729446411\n",
      "Train Loss at 1/10 is 0.9537941231960203 | Train accuracy:0.6798827129015809 | Time:54.666847944259644\n",
      "Test Loss at 1/10 is 0.9537941231960203 | Test accuracy:0.6798827129015809 | Time:6.097972631454468\n",
      "Train Loss at 2/10 is 0.8661758696160665 | Train accuracy:0.7125191228964813 | Time:54.97411584854126\n",
      "Test Loss at 2/10 is 0.8661758696160665 | Test accuracy:0.7125191228964813 | Time:6.043973207473755\n",
      "Train Loss at 3/10 is 0.8320720806354429 | Train accuracy:0.7234829168791433 | Time:54.87517333030701\n",
      "Test Loss at 3/10 is 0.8320720806354429 | Test accuracy:0.7234829168791433 | Time:5.9979941844940186\n",
      "Train Loss at 4/10 is 0.80128365609704 | Train accuracy:0.7338092809790923 | Time:54.56655979156494\n",
      "Test Loss at 4/10 is 0.80128365609704 | Test accuracy:0.7338092809790923 | Time:5.976878643035889\n",
      "Train Loss at 5/10 is 0.7796815536855682 | Train accuracy:0.7390362060173381 | Time:54.54658126831055\n",
      "Test Loss at 5/10 is 0.7796815536855682 | Test accuracy:0.7390362060173381 | Time:5.904961585998535\n",
      "Train Loss at 6/10 is 0.7607947609773497 | Train accuracy:0.7442631310555838 | Time:54.3599214553833\n",
      "Test Loss at 6/10 is 0.7607947609773497 | Test accuracy:0.7442631310555838 | Time:5.969557046890259\n",
      "Train Loss at 7/10 is 0.719602459572195 | Train accuracy:0.7607088220295768 | Time:54.55195879936218\n",
      "Test Loss at 7/10 is 0.719602459572195 | Test accuracy:0.7607088220295768 | Time:5.907044887542725\n",
      "Train Loss at 8/10 is 0.6947393133872892 | Train accuracy:0.7697603263641 | Time:54.38269829750061\n",
      "Test Loss at 8/10 is 0.6947393133872892 | Test accuracy:0.7697603263641 | Time:5.967785120010376\n",
      "Train Loss at 9/10 is 0.6991497404207059 | Train accuracy:0.7627485976542581 | Time:54.406874656677246\n",
      "Test Loss at 9/10 is 0.6991497404207059 | Test accuracy:0.7627485976542581 | Time:5.937519311904907\n",
      "Train Loss at 10/10 is 0.6525676139001924 | Train accuracy:0.7753697093319735 | Time:54.34120726585388\n",
      "Test Loss at 10/10 is 0.6525676139001924 | Test accuracy:0.7753697093319735 | Time:5.961939573287964\n",
      "Train Loss at 1/10 is 0.7032940136116059 | Train accuracy:0.7658511592160882 | Time:54.229758501052856\n",
      "Test Loss at 1/10 is 0.7032940136116059 | Test accuracy:0.7658511592160882 | Time:6.019366979598999\n",
      "Train Loss at 2/10 is 0.626675447968186 | Train accuracy:0.7915972844882797 | Time:54.43249845504761\n",
      "Test Loss at 2/10 is 0.626675447968186 | Test accuracy:0.7915972844882797 | Time:6.039112567901611\n",
      "Train Loss at 3/10 is 0.6082011600498294 | Train accuracy:0.7932624567695657 | Time:54.27394437789917\n",
      "Test Loss at 3/10 is 0.6082011600498294 | Test accuracy:0.7932624567695657 | Time:5.993560552597046\n",
      "Train Loss at 4/10 is 0.5927265288888431 | Train accuracy:0.8004355065966441 | Time:54.287397623062134\n",
      "Test Loss at 4/10 is 0.5927265288888431 | Test accuracy:0.8004355065966441 | Time:6.0457377433776855\n",
      "Train Loss at 5/10 is 0.5769324048620755 | Train accuracy:0.8102984501088767 | Time:54.35363698005676\n",
      "Test Loss at 5/10 is 0.5769324048620755 | Test accuracy:0.8102984501088767 | Time:6.04892110824585\n",
      "Train Loss at 6/10 is 0.5730735078209737 | Train accuracy:0.8050467529140515 | Time:54.254554986953735\n",
      "Test Loss at 6/10 is 0.5730735078209737 | Test accuracy:0.8050467529140515 | Time:6.035144329071045\n",
      "Train Loss at 7/10 is 0.5439105676334413 | Train accuracy:0.8151658767772512 | Time:54.54728627204895\n",
      "Test Loss at 7/10 is 0.5439105676334413 | Test accuracy:0.8151658767772512 | Time:6.005246877670288\n",
      "Train Loss at 8/10 is 0.5431568891298576 | Train accuracy:0.8179838606378891 | Time:54.3054096698761\n",
      "Test Loss at 8/10 is 0.5431568891298576 | Test accuracy:0.8179838606378891 | Time:6.029365301132202\n",
      "Train Loss at 9/10 is 0.5381030508729278 | Train accuracy:0.8186243115153068 | Time:54.37076783180237\n",
      "Test Loss at 9/10 is 0.5381030508729278 | Test accuracy:0.8186243115153068 | Time:6.020338535308838\n",
      "Train Loss at 10/10 is 0.5419773689058961 | Train accuracy:0.8179838606378891 | Time:54.16962552070618\n",
      "Test Loss at 10/10 is 0.5419773689058961 | Test accuracy:0.8179838606378891 | Time:6.049988269805908\n",
      "Train Loss at 1/10 is 0.5930275458934878 | Train accuracy:0.8041849651252906 | Time:53.65508961677551\n",
      "Test Loss at 1/10 is 0.5930275458934878 | Test accuracy:0.8041849651252906 | Time:6.907101631164551\n",
      "Train Loss at 2/10 is 0.534021974595125 | Train accuracy:0.8227848101265823 | Time:53.61549615859985\n",
      "Test Loss at 2/10 is 0.534021974595125 | Test accuracy:0.8227848101265823 | Time:6.86732029914856\n",
      "Train Loss at 3/10 is 0.5314098599035878 | Train accuracy:0.8182640144665461 | Time:53.60408115386963\n",
      "Test Loss at 3/10 is 0.5314098599035878 | Test accuracy:0.8182640144665461 | Time:6.850846529006958\n",
      "Train Loss at 4/10 is 0.5227788194151949 | Train accuracy:0.8225264789460088 | Time:53.547820806503296\n",
      "Test Loss at 4/10 is 0.5227788194151949 | Test accuracy:0.8225264789460088 | Time:6.896358013153076\n",
      "Train Loss at 5/10 is 0.4891414437904831 | Train accuracy:0.8284680960991991 | Time:53.484273195266724\n",
      "Test Loss at 5/10 is 0.4891414437904831 | Test accuracy:0.8284680960991991 | Time:6.827684164047241\n",
      "Train Loss at 6/10 is 0.5073176432739605 | Train accuracy:0.8292430896409196 | Time:53.424174308776855\n",
      "Test Loss at 6/10 is 0.5073176432739605 | Test accuracy:0.8292430896409196 | Time:6.874768972396851\n",
      "Train Loss at 7/10 is 0.4527099899762918 | Train accuracy:0.8475846034616378 | Time:53.75733542442322\n",
      "Test Loss at 7/10 is 0.4527099899762918 | Test accuracy:0.8475846034616378 | Time:6.9274232387542725\n",
      "Train Loss at 8/10 is 0.4673824362025773 | Train accuracy:0.8428054766210281 | Time:53.48540806770325\n",
      "Test Loss at 8/10 is 0.4673824362025773 | Test accuracy:0.8428054766210281 | Time:6.8813393115997314\n",
      "Train Loss at 9/10 is 0.4697460928731713 | Train accuracy:0.8406096615861535 | Time:53.6633837223053\n",
      "Test Loss at 9/10 is 0.4697460928731713 | Test accuracy:0.8406096615861535 | Time:6.856918811798096\n",
      "Train Loss at 10/10 is 0.4679050869192959 | Train accuracy:0.8437096357530354 | Time:53.808297634124756\n",
      "Test Loss at 10/10 is 0.4679050869192959 | Test accuracy:0.8437096357530354 | Time:6.889939308166504\n",
      "Train Loss at 1/10 is 0.5042946515757529 | Train accuracy:0.8299127757824526 | Time:54.26656484603882\n",
      "Test Loss at 1/10 is 0.5042946515757529 | Test accuracy:0.8299127757824526 | Time:6.30733323097229\n",
      "Train Loss at 2/10 is 0.4865689364368798 | Train accuracy:0.8349153412006157 | Time:54.275874614715576\n",
      "Test Loss at 2/10 is 0.4865689364368798 | Test accuracy:0.8349153412006157 | Time:6.3042073249816895\n",
      "Train Loss at 3/10 is 0.47081339713491377 | Train accuracy:0.8420985120574653 | Time:54.265596866607666\n",
      "Test Loss at 3/10 is 0.47081339713491377 | Test accuracy:0.8420985120574653 | Time:6.229938983917236\n",
      "Train Loss at 4/10 is 0.4460893385722989 | Train accuracy:0.849025141097999 | Time:54.17912149429321\n",
      "Test Loss at 4/10 is 0.4460893385722989 | Test accuracy:0.849025141097999 | Time:6.27387547492981\n",
      "Train Loss at 5/10 is 0.4472459781853879 | Train accuracy:0.8456900974858902 | Time:54.0583815574646\n",
      "Test Loss at 5/10 is 0.4472459781853879 | Test accuracy:0.8456900974858902 | Time:6.229573488235474\n",
      "Train Loss at 6/10 is 0.46294395417952144 | Train accuracy:0.8415854284248332 | Time:54.27333188056946\n",
      "Test Loss at 6/10 is 0.46294395417952144 | Test accuracy:0.8415854284248332 | Time:6.279322147369385\n",
      "Train Loss at 7/10 is 0.43605466541208204 | Train accuracy:0.8513340174448435 | Time:54.24349594116211\n",
      "Test Loss at 7/10 is 0.43605466541208204 | Test accuracy:0.8513340174448435 | Time:6.3535847663879395\n",
      "Train Loss at 8/10 is 0.4313630203976006 | Train accuracy:0.8542842483324782 | Time:54.11113905906677\n",
      "Test Loss at 8/10 is 0.4313630203976006 | Test accuracy:0.8542842483324782 | Time:6.318055152893066\n",
      "Train Loss at 9/10 is 0.434993213805996 | Train accuracy:0.8540277065161621 | Time:53.8779034614563\n",
      "Test Loss at 9/10 is 0.434993213805996 | Test accuracy:0.8540277065161621 | Time:6.248461723327637\n",
      "Train Loss at 10/10 is 0.40987364422591005 | Train accuracy:0.8641611082606465 | Time:54.1097137928009\n",
      "Test Loss at 10/10 is 0.40987364422591005 | Test accuracy:0.8641611082606465 | Time:6.25370979309082\n",
      "Train Loss at 1/10 is 0.4559892462866922 | Train accuracy:0.8484005563282336 | Time:55.013211488723755\n",
      "Test Loss at 1/10 is 0.4559892462866922 | Test accuracy:0.8484005563282336 | Time:5.243438005447388\n",
      "Train Loss at 2/10 is 0.4370657359400103 | Train accuracy:0.8562397268934125 | Time:54.923609018325806\n",
      "Test Loss at 2/10 is 0.4370657359400103 | Test accuracy:0.8562397268934125 | Time:5.291564464569092\n",
      "Train Loss at 3/10 is 0.4114139397298136 | Train accuracy:0.8580098621823239 | Time:54.94857096672058\n",
      "Test Loss at 3/10 is 0.4114139397298136 | Test accuracy:0.8580098621823239 | Time:5.254443168640137\n",
      "Train Loss at 4/10 is 0.4033049122700768 | Train accuracy:0.8630673915792135 | Time:54.942545652389526\n",
      "Test Loss at 4/10 is 0.4033049122700768 | Test accuracy:0.8630673915792135 | Time:5.226377487182617\n",
      "Train Loss at 5/10 is 0.38149473659934535 | Train accuracy:0.8657225945125806 | Time:54.882298946380615\n",
      "Test Loss at 5/10 is 0.38149473659934535 | Test accuracy:0.8657225945125806 | Time:5.254554271697998\n",
      "Train Loss at 6/10 is 0.4027516370819461 | Train accuracy:0.8648375268681249 | Time:54.94073247909546\n",
      "Test Loss at 6/10 is 0.4027516370819461 | Test accuracy:0.8648375268681249 | Time:5.294819116592407\n",
      "Train Loss at 7/10 is 0.3775464646037548 | Train accuracy:0.8731824503729928 | Time:54.97893834114075\n",
      "Test Loss at 7/10 is 0.3775464646037548 | Test accuracy:0.8731824503729928 | Time:5.2401299476623535\n",
      "Train Loss at 8/10 is 0.376031227289669 | Train accuracy:0.8744468327222152 | Time:54.992748975753784\n",
      "Test Loss at 8/10 is 0.376031227289669 | Test accuracy:0.8744468327222152 | Time:5.240498304367065\n",
      "Train Loss at 9/10 is 0.40343187184583756 | Train accuracy:0.8615501327601467 | Time:54.87185573577881\n",
      "Test Loss at 9/10 is 0.40343187184583756 | Test accuracy:0.8615501327601467 | Time:5.275655746459961\n",
      "Train Loss at 10/10 is 0.36495591868315974 | Train accuracy:0.8740675180174485 | Time:54.88819718360901\n",
      "Test Loss at 10/10 is 0.36495591868315974 | Test accuracy:0.8740675180174485 | Time:5.2511351108551025\n",
      "Train Loss at 1/10 is 0.42688855636985074 | Train accuracy:0.8588801621484672 | Time:54.494389057159424\n",
      "Test Loss at 1/10 is 0.42688855636985074 | Test accuracy:0.8588801621484672 | Time:5.771965503692627\n",
      "Train Loss at 2/10 is 0.3890689977955434 | Train accuracy:0.8706612617177604 | Time:54.418487548828125\n",
      "Test Loss at 2/10 is 0.3890689977955434 | Test accuracy:0.8706612617177604 | Time:5.769982099533081\n",
      "Train Loss at 3/10 is 0.38618835446334654 | Train accuracy:0.8705345832277679 | Time:54.60163402557373\n",
      "Test Loss at 3/10 is 0.38618835446334654 | Test accuracy:0.8705345832277679 | Time:5.79539942741394\n",
      "Train Loss at 4/10 is 0.3720691259349546 | Train accuracy:0.8754750443374715 | Time:54.53546857833862\n",
      "Test Loss at 4/10 is 0.3720691259349546 | Test accuracy:0.8754750443374715 | Time:5.748091459274292\n",
      "Train Loss at 5/10 is 0.3482970928232516 | Train accuracy:0.8849759310869014 | Time:54.52510118484497\n",
      "Test Loss at 5/10 is 0.3482970928232516 | Test accuracy:0.8849759310869014 | Time:5.748958587646484\n",
      "Train Loss at 6/10 is 0.37822894331428314 | Train accuracy:0.8748416518875095 | Time:54.60764813423157\n",
      "Test Loss at 6/10 is 0.37822894331428314 | Test accuracy:0.8748416518875095 | Time:5.77666974067688\n",
      "Train Loss at 7/10 is 0.357822947384369 | Train accuracy:0.8790220420572586 | Time:54.128148555755615\n",
      "Test Loss at 7/10 is 0.357822947384369 | Test accuracy:0.8790220420572586 | Time:5.713909387588501\n",
      "Train Loss at 8/10 is 0.3935238912461265 | Train accuracy:0.8664808715480111 | Time:54.07290601730347\n",
      "Test Loss at 8/10 is 0.3935238912461265 | Test accuracy:0.8664808715480111 | Time:5.719208717346191\n",
      "Train Loss at 9/10 is 0.34598258426112516 | Train accuracy:0.8839625031669622 | Time:53.98472046852112\n",
      "Test Loss at 9/10 is 0.34598258426112516 | Test accuracy:0.8839625031669622 | Time:5.676870584487915\n",
      "Train Loss at 10/10 is 0.37045591324567795 | Train accuracy:0.8783886496072967 | Time:53.97398638725281\n",
      "Test Loss at 10/10 is 0.37045591324567795 | Test accuracy:0.8783886496072967 | Time:5.6839985847473145\n",
      "Train Loss at 1/10 is 0.3943350369170789 | Train accuracy:0.8646227605349482 | Time:54.25855875015259\n",
      "Test Loss at 1/10 is 0.3943350369170789 | Test accuracy:0.8646227605349482 | Time:5.618329048156738\n",
      "Train Loss at 2/10 is 0.3412427582567738 | Train accuracy:0.8838001514004542 | Time:54.099859952926636\n",
      "Test Loss at 2/10 is 0.3412427582567738 | Test accuracy:0.8838001514004542 | Time:5.638326644897461\n",
      "Train Loss at 3/10 is 0.3525967557103403 | Train accuracy:0.8806459752712591 | Time:54.33792686462402\n",
      "Test Loss at 3/10 is 0.3525967557103403 | Test accuracy:0.8806459752712591 | Time:5.615041732788086\n",
      "Train Loss at 4/10 is 0.34871947873503933 | Train accuracy:0.8827908150391118 | Time:54.21839380264282\n",
      "Test Loss at 4/10 is 0.34871947873503933 | Test accuracy:0.8827908150391118 | Time:5.548064231872559\n",
      "Train Loss at 5/10 is 0.35648323775779817 | Train accuracy:0.8745899571032046 | Time:54.242732763290405\n",
      "Test Loss at 5/10 is 0.35648323775779817 | Test accuracy:0.8745899571032046 | Time:5.60467529296875\n",
      "Train Loss at 6/10 is 0.3412027762181336 | Train accuracy:0.8841786525359576 | Time:54.26083731651306\n",
      "Test Loss at 6/10 is 0.3412027762181336 | Test accuracy:0.8841786525359576 | Time:5.584771394729614\n",
      "Train Loss at 7/10 is 0.34928854398669734 | Train accuracy:0.8797628059550845 | Time:54.0923171043396\n",
      "Test Loss at 7/10 is 0.34928854398669734 | Test accuracy:0.8797628059550845 | Time:5.594329357147217\n",
      "Train Loss at 8/10 is 0.31091348532467117 | Train accuracy:0.8951551854655564 | Time:54.121644258499146\n",
      "Test Loss at 8/10 is 0.31091348532467117 | Test accuracy:0.8951551854655564 | Time:5.644843578338623\n",
      "Train Loss at 9/10 is 0.32804848421965876 | Train accuracy:0.8869543275296492 | Time:53.93995237350464\n",
      "Test Loss at 9/10 is 0.32804848421965876 | Test accuracy:0.8869543275296492 | Time:5.542118549346924\n",
      "Train Loss at 10/10 is 0.3563617202303102 | Train accuracy:0.8797628059550845 | Time:53.92232823371887\n",
      "Test Loss at 10/10 is 0.3563617202303102 | Test accuracy:0.8797628059550845 | Time:5.584641456604004\n",
      "Train Loss at 1/10 is 0.3703734348377874 | Train accuracy:0.8764527539161192 | Time:53.92546057701111\n",
      "Test Loss at 1/10 is 0.3703734348377874 | Test accuracy:0.8764527539161192 | Time:5.59532904624939\n",
      "Train Loss at 2/10 is 0.3331598939914857 | Train accuracy:0.8883274381000505 | Time:53.92417240142822\n",
      "Test Loss at 2/10 is 0.3331598939914857 | Test accuracy:0.8883274381000505 | Time:5.609249830245972\n",
      "Train Loss at 3/10 is 0.36867607264749463 | Train accuracy:0.8745578575037898 | Time:54.00193905830383\n",
      "Test Loss at 3/10 is 0.36867607264749463 | Test accuracy:0.8745578575037898 | Time:5.622820854187012\n",
      "Train Loss at 4/10 is 0.3290874774177228 | Train accuracy:0.8856745831227892 | Time:54.070603370666504\n",
      "Test Loss at 4/10 is 0.3290874774177228 | Test accuracy:0.8856745831227892 | Time:5.634424924850464\n",
      "Train Loss at 5/10 is 0.3037852355909924 | Train accuracy:0.8943911066195048 | Time:53.91068744659424\n",
      "Test Loss at 5/10 is 0.3037852355909924 | Test accuracy:0.8943911066195048 | Time:5.560838460922241\n",
      "Train Loss at 6/10 is 0.320666697717482 | Train accuracy:0.8908539666498232 | Time:53.84504771232605\n",
      "Test Loss at 6/10 is 0.320666697717482 | Test accuracy:0.8908539666498232 | Time:5.591832399368286\n",
      "Train Loss at 7/10 is 0.3296436089421472 | Train accuracy:0.8852956038403234 | Time:53.74411725997925\n",
      "Test Loss at 7/10 is 0.3296436089421472 | Test accuracy:0.8852956038403234 | Time:5.572234630584717\n",
      "Train Loss at 8/10 is 0.3138094513166335 | Train accuracy:0.892622536634664 | Time:53.90846061706543\n",
      "Test Loss at 8/10 is 0.3138094513166335 | Test accuracy:0.892622536634664 | Time:5.631492853164673\n",
      "Train Loss at 9/10 is 0.31323924173991524 | Train accuracy:0.8923698837796867 | Time:54.097163677215576\n",
      "Test Loss at 9/10 is 0.31323924173991524 | Test accuracy:0.8923698837796867 | Time:5.625325441360474\n",
      "Train Loss at 10/10 is 0.34499015262530697 | Train accuracy:0.8827690752905508 | Time:53.808247327804565\n",
      "Test Loss at 10/10 is 0.34499015262530697 | Test accuracy:0.8827690752905508 | Time:5.5948402881622314\n",
      "Train Loss at 1/10 is 0.3581850651291109 | Train accuracy:0.8775174160861304 | Time:53.835598945617676\n",
      "Test Loss at 1/10 is 0.3581850651291109 | Test accuracy:0.8775174160861304 | Time:5.703182220458984\n",
      "Train Loss at 2/10 is 0.3318615719195335 | Train accuracy:0.8876504116529449 | Time:53.68743014335632\n",
      "Test Loss at 2/10 is 0.3318615719195335 | Test accuracy:0.8876504116529449 | Time:5.724672317504883\n",
      "Train Loss at 3/10 is 0.3173433908171231 | Train accuracy:0.8915769474350855 | Time:53.80498814582825\n",
      "Test Loss at 3/10 is 0.3173433908171231 | Test accuracy:0.8915769474350855 | Time:5.732568025588989\n",
      "Train Loss at 4/10 is 0.331954843454784 | Train accuracy:0.887017099430019 | Time:53.78591537475586\n",
      "Test Loss at 4/10 is 0.331954843454784 | Test accuracy:0.887017099430019 | Time:5.658984899520874\n",
      "Train Loss at 5/10 is 0.32136925033503966 | Train accuracy:0.8901836605446485 | Time:53.61206269264221\n",
      "Test Loss at 5/10 is 0.32136925033503966 | Test accuracy:0.8901836605446485 | Time:5.676218748092651\n"
     ]
    }
   ],
   "source": [
    "device = 'cuda' if torch.cuda.is_available() else 'cpu'\n",
    "\n",
    "# print_every = 10\n",
    "avg_loss = []\n",
    "# epochs =100\n",
    "overall_result = {}\n",
    "\n",
    "model = DeepFake()\n",
    "\n",
    "# writer_path = \"/content/drive/My Drive/AudioTask/{}\".format(models_name[model_idx])\n",
    "comment = \"{}\".format(models_name[model_idx])\n",
    "#Tensorboard Logger\n",
    "writer = SummaryWriter(comment)\n",
    "\n",
    "train_dataset = AudioDataset(file_path, audio_paths, train_folds)\n",
    "test_dataset = AudioDataset(file_path, audio_paths, test_folds)\n",
    "\n",
    "train_loader = DataLoader(train_dataset, batch_size=64, shuffle=True)\n",
    "test_loader = DataLoader(test_dataset, batch_size=64)\n",
    "\n",
    "optimizer = torch.optim.Adam(model.parameters(), lr=0.01, weight_decay=0.0001)\n",
    "criterion = nn.CrossEntropyLoss()\n",
    "scheduler = torch.optim.lr_scheduler.ExponentialLR(optimizer, 0.023)\n",
    "early_stopping = EarlyStopping(patience=10, verbose=True)\n",
    "\n",
    "if os.path.isfile('DeepFake_model_checkpoint.tar'):\n",
    "    print('DeepFake_model_checkpoint.tar found..')\n",
    "    print('Loading checkpoint..')\n",
    "    checkpoint = torch.load('DeepFake_model_checkpoint.tar')\n",
    "    model.load_state_dict(checkpoint['model_state_dict'])\n",
    "    optimizer.load_state_dict(checkpoint['optimizer_state_dict'])\n",
    "    print('Finished loading checkpoint..')\n",
    "else:\n",
    "    train_losses = []\n",
    "    test_losses = []\n",
    "    training_time = 0\n",
    "    no_of_steps = 0\n",
    "\n",
    "epochs = 10\n",
    "# print_every = 5\n",
    "\n",
    "train_losses = []\n",
    "test_losses = []\n",
    "train_accuracy = []\n",
    "test_accuracy = []\n",
    "\n",
    "for i in range(epochs):\n",
    "    t0 = time.time()\n",
    "    train_loss, train_acc = train(model, train_loader, optimizer, criterion)\n",
    "    t1 = time.time()\n",
    "    print(\"Train Loss at {}/{} is {} | Train accuracy:{} | Time:{}\".format(i+1, epochs, train_loss, train_acc, t1-t0))\n",
    "\n",
    "    t0 = time.time()\n",
    "    test_loss, test_acc = test(model, test_loader, criterion)\n",
    "    t1 = time.time()\n",
    "    print(\"Test Loss at {}/{} is {} | Test accuracy:{} | Time:{}\".format(i+1, epochs, train_loss, train_acc, t1-t0))\n",
    "\n",
    "    train_losses.append(train_loss)\n",
    "    train_accuracy.append(train_acc)\n",
    "    test_losses.append(test_loss)\n",
    "    test_accuracy.append(test_acc)\n",
    "\n",
    "    writer.add_scalar(\"Loss/Test\", test_loss, i)\n",
    "    writer.add_scalar(\"Accuracy/Test\", test_acc, i)\n",
    "    writer.add_scalar(\"Loss/Train\", train_loss, i)\n",
    "    writer.add_scalar(\"Accuracy/Train\", train_acc, i)\n",
    "\n",
    "\n",
    "inter_result.append({'train_loss':train_losses, 'train_accuracy':train_accuracy, 'test_loss':test_losses, 'test_accuracy':test_accuracy})\n",
    "\n",
    "out_filename = '/content/drive/My Drive/AudioTask/result.json'\n",
    "with open(out_filename, 'w') as f:\n",
    "    json.dump(inter_result, f)\n",
    "\n",
    "print(\"\\n\\nEnd of training\\nLogging results..\")\n",
    "writer.close()\n"
   ]
  },
  {
   "cell_type": "markdown",
   "metadata": {
    "colab_type": "text",
    "id": "wDQn_LKurKjD"
   },
   "source": [
    "# Results Plots"
   ]
  },
  {
   "cell_type": "code",
   "execution_count": null,
   "metadata": {
    "colab": {},
    "colab_type": "code",
    "id": "D6KIHdyqioMF"
   },
   "outputs": [],
   "source": [
    "def plot(result, title):\n",
    "  fig, ax = plt.subplots(1, 2)\n",
    "  fig.set_size_inches(10,5)\n",
    "  ax[0].set_title('{} Train + Test Losses'.format(title))\n",
    "  ax[0].plot(result['train_loss'], label=\"Train\")\n",
    "  ax[0].plot(result['test_loss'], label=\"Test\")\n",
    "  ax[0].legend()\n",
    "  ax[1].set_title('{} Train + Test Accuracy'.format(title))\n",
    "  ax[1].plot(result['train_accuracy'], label=\"Train\")\n",
    "  ax[1].plot(result['test_accuracy'], label=\"Test\")\n",
    "  ax[1].legend()\n",
    "  plt.show()"
   ]
  },
  {
   "cell_type": "code",
   "execution_count": null,
   "metadata": {
    "colab": {},
    "colab_type": "code",
    "id": "CyLIncXg6wJR"
   },
   "outputs": [],
   "source": [
    "with open('results/Output/results.json', 'r') as f:\n",
    "  results = json.load(f)"
   ]
  },
  {
   "cell_type": "code",
   "execution_count": null,
   "metadata": {
    "colab": {},
    "colab_type": "code",
    "id": "79BtQ1n4rKjf"
   },
   "outputs": [],
   "source": [
    "import pandas as pd\n",
    "df = pd.read_json('metadata.json').transpose()"
   ]
  },
  {
   "cell_type": "code",
   "execution_count": null,
   "metadata": {
    "colab": {},
    "colab_type": "code",
    "id": "ZtjDCMqUrKjk"
   },
   "outputs": [],
   "source": []
  }
 ],
 "metadata": {
  "accelerator": "GPU",
  "colab": {
   "collapsed_sections": [],
   "name": "DeepFake.ipynb",
   "provenance": [],
   "toc_visible": true
  },
  "kernelspec": {
   "display_name": "Python 3",
   "language": "python",
   "name": "python3"
  },
  "language_info": {
   "codemirror_mode": {
    "name": "ipython",
    "version": 3
   },
   "file_extension": ".py",
   "mimetype": "text/x-python",
   "name": "python",
   "nbconvert_exporter": "python",
   "pygments_lexer": "ipython3",
   "version": "3.7.3"
  }
 },
 "nbformat": 4,
 "nbformat_minor": 4
}
